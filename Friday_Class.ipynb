{
 "cells": [
  {
   "cell_type": "markdown",
   "id": "5e870274",
   "metadata": {},
   "source": [
    "## session 1:\n",
    "    \n",
    "    case study\n",
    "    mcqs "
   ]
  },
  {
   "cell_type": "markdown",
   "id": "b1e52c85",
   "metadata": {},
   "source": [
    "## session 2:\n",
    "    "
   ]
  },
  {
   "cell_type": "code",
   "execution_count": 1,
   "id": "f1f70cb6",
   "metadata": {},
   "outputs": [],
   "source": [
    "import pandas as pd"
   ]
  },
  {
   "cell_type": "code",
   "execution_count": 2,
   "id": "cff02c01",
   "metadata": {},
   "outputs": [],
   "source": [
    "df = pd.read_csv(r'C:\\Users\\sobia\\Downloads\\pokemon.csv')"
   ]
  },
  {
   "cell_type": "markdown",
   "id": "ba535683",
   "metadata": {},
   "source": [
    "### find the rows where name start with G"
   ]
  },
  {
   "cell_type": "code",
   "execution_count": 21,
   "id": "085c0a41",
   "metadata": {},
   "outputs": [
    {
     "data": {
      "text/plain": [
       "array(['Bulbasaur', 'Ivysaur', 'Venusaur', ..., 'Miraidon',\n",
       "       'Walking Wake', 'Iron Leaves'], dtype=object)"
      ]
     },
     "execution_count": 21,
     "metadata": {},
     "output_type": "execute_result"
    }
   ],
   "source": [
    "df['Names'].unique()"
   ]
  },
  {
   "cell_type": "code",
   "execution_count": 66,
   "id": "98402859",
   "metadata": {},
   "outputs": [],
   "source": [
    "var1=df['Names'].str"
   ]
  },
  {
   "cell_type": "code",
   "execution_count": 68,
   "id": "bf84378f",
   "metadata": {},
   "outputs": [
    {
     "data": {
      "text/html": [
       "<div>\n",
       "<style scoped>\n",
       "    .dataframe tbody tr th:only-of-type {\n",
       "        vertical-align: middle;\n",
       "    }\n",
       "\n",
       "    .dataframe tbody tr th {\n",
       "        vertical-align: top;\n",
       "    }\n",
       "\n",
       "    .dataframe thead th {\n",
       "        text-align: right;\n",
       "    }\n",
       "</style>\n",
       "<table border=\"1\" class=\"dataframe\">\n",
       "  <thead>\n",
       "    <tr style=\"text-align: right;\">\n",
       "      <th></th>\n",
       "      <th>Unnamed: 0</th>\n",
       "      <th>image_url</th>\n",
       "      <th>Id</th>\n",
       "      <th>Names</th>\n",
       "      <th>Type1</th>\n",
       "      <th>Type2</th>\n",
       "      <th>Total</th>\n",
       "      <th>HP</th>\n",
       "      <th>Attack</th>\n",
       "      <th>Defense</th>\n",
       "      <th>Sp. Atk</th>\n",
       "      <th>Sp. Def</th>\n",
       "      <th>Speed</th>\n",
       "    </tr>\n",
       "  </thead>\n",
       "  <tbody>\n",
       "    <tr>\n",
       "      <th>55</th>\n",
       "      <td>55</td>\n",
       "      <td>https://img.pokemondb.net/sprites/sword-shield...</td>\n",
       "      <td>42</td>\n",
       "      <td>Golbat</td>\n",
       "      <td>Poison</td>\n",
       "      <td>Flying</td>\n",
       "      <td>455</td>\n",
       "      <td>75</td>\n",
       "      <td>80</td>\n",
       "      <td>70</td>\n",
       "      <td>65</td>\n",
       "      <td>75</td>\n",
       "      <td>90</td>\n",
       "    </tr>\n",
       "    <tr>\n",
       "      <th>57</th>\n",
       "      <td>57</td>\n",
       "      <td>https://img.pokemondb.net/sprites/sword-shield...</td>\n",
       "      <td>44</td>\n",
       "      <td>Gloom</td>\n",
       "      <td>Grass</td>\n",
       "      <td>Poison</td>\n",
       "      <td>395</td>\n",
       "      <td>60</td>\n",
       "      <td>65</td>\n",
       "      <td>70</td>\n",
       "      <td>85</td>\n",
       "      <td>75</td>\n",
       "      <td>40</td>\n",
       "    </tr>\n",
       "    <tr>\n",
       "      <th>73</th>\n",
       "      <td>73</td>\n",
       "      <td>https://img.pokemondb.net/sprites/sword-shield...</td>\n",
       "      <td>55</td>\n",
       "      <td>Golduck</td>\n",
       "      <td>Water</td>\n",
       "      <td>NaN</td>\n",
       "      <td>500</td>\n",
       "      <td>80</td>\n",
       "      <td>82</td>\n",
       "      <td>78</td>\n",
       "      <td>95</td>\n",
       "      <td>80</td>\n",
       "      <td>85</td>\n",
       "    </tr>\n",
       "    <tr>\n",
       "      <th>76</th>\n",
       "      <td>76</td>\n",
       "      <td>https://img.pokemondb.net/sprites/sword-shield...</td>\n",
       "      <td>58</td>\n",
       "      <td>Growlithe</td>\n",
       "      <td>Fire</td>\n",
       "      <td>NaN</td>\n",
       "      <td>350</td>\n",
       "      <td>55</td>\n",
       "      <td>70</td>\n",
       "      <td>45</td>\n",
       "      <td>70</td>\n",
       "      <td>50</td>\n",
       "      <td>60</td>\n",
       "    </tr>\n",
       "    <tr>\n",
       "      <th>77</th>\n",
       "      <td>77</td>\n",
       "      <td>https://img.pokemondb.net/sprites/scarlet-viol...</td>\n",
       "      <td>58</td>\n",
       "      <td>Growlithe Hisuian Growlithe</td>\n",
       "      <td>Fire</td>\n",
       "      <td>Rock</td>\n",
       "      <td>350</td>\n",
       "      <td>60</td>\n",
       "      <td>75</td>\n",
       "      <td>45</td>\n",
       "      <td>65</td>\n",
       "      <td>50</td>\n",
       "      <td>55</td>\n",
       "    </tr>\n",
       "    <tr>\n",
       "      <th>...</th>\n",
       "      <td>...</td>\n",
       "      <td>...</td>\n",
       "      <td>...</td>\n",
       "      <td>...</td>\n",
       "      <td>...</td>\n",
       "      <td>...</td>\n",
       "      <td>...</td>\n",
       "      <td>...</td>\n",
       "      <td>...</td>\n",
       "      <td>...</td>\n",
       "      <td>...</td>\n",
       "      <td>...</td>\n",
       "      <td>...</td>\n",
       "    </tr>\n",
       "    <tr>\n",
       "      <th>1150</th>\n",
       "      <td>1150</td>\n",
       "      <td>https://img.pokemondb.net/sprites/scarlet-viol...</td>\n",
       "      <td>971</td>\n",
       "      <td>Greavard</td>\n",
       "      <td>Ghost</td>\n",
       "      <td>NaN</td>\n",
       "      <td>290</td>\n",
       "      <td>50</td>\n",
       "      <td>61</td>\n",
       "      <td>60</td>\n",
       "      <td>30</td>\n",
       "      <td>55</td>\n",
       "      <td>34</td>\n",
       "    </tr>\n",
       "    <tr>\n",
       "      <th>1166</th>\n",
       "      <td>1166</td>\n",
       "      <td>https://img.pokemondb.net/sprites/scarlet-viol...</td>\n",
       "      <td>984</td>\n",
       "      <td>Great Tusk</td>\n",
       "      <td>Ground</td>\n",
       "      <td>Fighting</td>\n",
       "      <td>570</td>\n",
       "      <td>115</td>\n",
       "      <td>131</td>\n",
       "      <td>131</td>\n",
       "      <td>53</td>\n",
       "      <td>53</td>\n",
       "      <td>87</td>\n",
       "    </tr>\n",
       "    <tr>\n",
       "      <th>1181</th>\n",
       "      <td>1181</td>\n",
       "      <td>https://img.pokemondb.net/sprites/scarlet-viol...</td>\n",
       "      <td>999</td>\n",
       "      <td>Gimmighoul Chest Form</td>\n",
       "      <td>Ghost</td>\n",
       "      <td>NaN</td>\n",
       "      <td>300</td>\n",
       "      <td>45</td>\n",
       "      <td>30</td>\n",
       "      <td>70</td>\n",
       "      <td>75</td>\n",
       "      <td>70</td>\n",
       "      <td>10</td>\n",
       "    </tr>\n",
       "    <tr>\n",
       "      <th>1182</th>\n",
       "      <td>1182</td>\n",
       "      <td>https://img.pokemondb.net/sprites/scarlet-viol...</td>\n",
       "      <td>999</td>\n",
       "      <td>Gimmighoul Roaming Form</td>\n",
       "      <td>Ghost</td>\n",
       "      <td>NaN</td>\n",
       "      <td>300</td>\n",
       "      <td>45</td>\n",
       "      <td>30</td>\n",
       "      <td>25</td>\n",
       "      <td>75</td>\n",
       "      <td>45</td>\n",
       "      <td>80</td>\n",
       "    </tr>\n",
       "    <tr>\n",
       "      <th>1183</th>\n",
       "      <td>1183</td>\n",
       "      <td>https://img.pokemondb.net/sprites/scarlet-viol...</td>\n",
       "      <td>1000</td>\n",
       "      <td>Gholdengo</td>\n",
       "      <td>Steel</td>\n",
       "      <td>Ghost</td>\n",
       "      <td>550</td>\n",
       "      <td>87</td>\n",
       "      <td>60</td>\n",
       "      <td>95</td>\n",
       "      <td>133</td>\n",
       "      <td>91</td>\n",
       "      <td>84</td>\n",
       "    </tr>\n",
       "  </tbody>\n",
       "</table>\n",
       "<p>84 rows × 13 columns</p>\n",
       "</div>"
      ],
      "text/plain": [
       "      Unnamed: 0                                          image_url    Id  \\\n",
       "55            55  https://img.pokemondb.net/sprites/sword-shield...    42   \n",
       "57            57  https://img.pokemondb.net/sprites/sword-shield...    44   \n",
       "73            73  https://img.pokemondb.net/sprites/sword-shield...    55   \n",
       "76            76  https://img.pokemondb.net/sprites/sword-shield...    58   \n",
       "77            77  https://img.pokemondb.net/sprites/scarlet-viol...    58   \n",
       "...          ...                                                ...   ...   \n",
       "1150        1150  https://img.pokemondb.net/sprites/scarlet-viol...   971   \n",
       "1166        1166  https://img.pokemondb.net/sprites/scarlet-viol...   984   \n",
       "1181        1181  https://img.pokemondb.net/sprites/scarlet-viol...   999   \n",
       "1182        1182  https://img.pokemondb.net/sprites/scarlet-viol...   999   \n",
       "1183        1183  https://img.pokemondb.net/sprites/scarlet-viol...  1000   \n",
       "\n",
       "                            Names   Type1     Type2  Total   HP  Attack  \\\n",
       "55                         Golbat  Poison    Flying    455   75      80   \n",
       "57                          Gloom   Grass    Poison    395   60      65   \n",
       "73                        Golduck   Water       NaN    500   80      82   \n",
       "76                      Growlithe    Fire       NaN    350   55      70   \n",
       "77    Growlithe Hisuian Growlithe    Fire      Rock    350   60      75   \n",
       "...                           ...     ...       ...    ...  ...     ...   \n",
       "1150                     Greavard   Ghost       NaN    290   50      61   \n",
       "1166                   Great Tusk  Ground  Fighting    570  115     131   \n",
       "1181        Gimmighoul Chest Form   Ghost       NaN    300   45      30   \n",
       "1182      Gimmighoul Roaming Form   Ghost       NaN    300   45      30   \n",
       "1183                    Gholdengo   Steel     Ghost    550   87      60   \n",
       "\n",
       "      Defense  Sp. Atk  Sp. Def  Speed  \n",
       "55         70       65       75     90  \n",
       "57         70       85       75     40  \n",
       "73         78       95       80     85  \n",
       "76         45       70       50     60  \n",
       "77         45       65       50     55  \n",
       "...       ...      ...      ...    ...  \n",
       "1150       60       30       55     34  \n",
       "1166      131       53       53     87  \n",
       "1181       70       75       70     10  \n",
       "1182       25       75       45     80  \n",
       "1183       95      133       91     84  \n",
       "\n",
       "[84 rows x 13 columns]"
      ]
     },
     "execution_count": 68,
     "metadata": {},
     "output_type": "execute_result"
    }
   ],
   "source": [
    "df[var1.startswith('G')]"
   ]
  },
  {
   "cell_type": "code",
   "execution_count": 101,
   "id": "9c1b0ccf",
   "metadata": {},
   "outputs": [
    {
     "data": {
      "text/html": [
       "<div>\n",
       "<style scoped>\n",
       "    .dataframe tbody tr th:only-of-type {\n",
       "        vertical-align: middle;\n",
       "    }\n",
       "\n",
       "    .dataframe tbody tr th {\n",
       "        vertical-align: top;\n",
       "    }\n",
       "\n",
       "    .dataframe thead th {\n",
       "        text-align: right;\n",
       "    }\n",
       "</style>\n",
       "<table border=\"1\" class=\"dataframe\">\n",
       "  <thead>\n",
       "    <tr style=\"text-align: right;\">\n",
       "      <th></th>\n",
       "      <th>Unnamed: 0</th>\n",
       "      <th>image_url</th>\n",
       "      <th>Id</th>\n",
       "      <th>Names</th>\n",
       "      <th>Type1</th>\n",
       "      <th>Type2</th>\n",
       "      <th>Total</th>\n",
       "      <th>HP</th>\n",
       "      <th>Attack</th>\n",
       "      <th>Defense</th>\n",
       "      <th>Sp. Atk</th>\n",
       "      <th>Sp. Def</th>\n",
       "      <th>Speed</th>\n",
       "    </tr>\n",
       "  </thead>\n",
       "  <tbody>\n",
       "    <tr>\n",
       "      <th>55</th>\n",
       "      <td>55</td>\n",
       "      <td>https://img.pokemondb.net/sprites/sword-shield...</td>\n",
       "      <td>42</td>\n",
       "      <td>Golbat</td>\n",
       "      <td>Poison</td>\n",
       "      <td>Flying</td>\n",
       "      <td>455</td>\n",
       "      <td>75</td>\n",
       "      <td>80</td>\n",
       "      <td>70</td>\n",
       "      <td>65</td>\n",
       "      <td>75</td>\n",
       "      <td>90</td>\n",
       "    </tr>\n",
       "    <tr>\n",
       "      <th>57</th>\n",
       "      <td>57</td>\n",
       "      <td>https://img.pokemondb.net/sprites/sword-shield...</td>\n",
       "      <td>44</td>\n",
       "      <td>Gloom</td>\n",
       "      <td>Grass</td>\n",
       "      <td>Poison</td>\n",
       "      <td>395</td>\n",
       "      <td>60</td>\n",
       "      <td>65</td>\n",
       "      <td>70</td>\n",
       "      <td>85</td>\n",
       "      <td>75</td>\n",
       "      <td>40</td>\n",
       "    </tr>\n",
       "    <tr>\n",
       "      <th>73</th>\n",
       "      <td>73</td>\n",
       "      <td>https://img.pokemondb.net/sprites/sword-shield...</td>\n",
       "      <td>55</td>\n",
       "      <td>Golduck</td>\n",
       "      <td>Water</td>\n",
       "      <td>NaN</td>\n",
       "      <td>500</td>\n",
       "      <td>80</td>\n",
       "      <td>82</td>\n",
       "      <td>78</td>\n",
       "      <td>95</td>\n",
       "      <td>80</td>\n",
       "      <td>85</td>\n",
       "    </tr>\n",
       "    <tr>\n",
       "      <th>76</th>\n",
       "      <td>76</td>\n",
       "      <td>https://img.pokemondb.net/sprites/sword-shield...</td>\n",
       "      <td>58</td>\n",
       "      <td>Growlithe</td>\n",
       "      <td>Fire</td>\n",
       "      <td>NaN</td>\n",
       "      <td>350</td>\n",
       "      <td>55</td>\n",
       "      <td>70</td>\n",
       "      <td>45</td>\n",
       "      <td>70</td>\n",
       "      <td>50</td>\n",
       "      <td>60</td>\n",
       "    </tr>\n",
       "    <tr>\n",
       "      <th>77</th>\n",
       "      <td>77</td>\n",
       "      <td>https://img.pokemondb.net/sprites/scarlet-viol...</td>\n",
       "      <td>58</td>\n",
       "      <td>Growlithe Hisuian Growlithe</td>\n",
       "      <td>Fire</td>\n",
       "      <td>Rock</td>\n",
       "      <td>350</td>\n",
       "      <td>60</td>\n",
       "      <td>75</td>\n",
       "      <td>45</td>\n",
       "      <td>65</td>\n",
       "      <td>50</td>\n",
       "      <td>55</td>\n",
       "    </tr>\n",
       "    <tr>\n",
       "      <th>...</th>\n",
       "      <td>...</td>\n",
       "      <td>...</td>\n",
       "      <td>...</td>\n",
       "      <td>...</td>\n",
       "      <td>...</td>\n",
       "      <td>...</td>\n",
       "      <td>...</td>\n",
       "      <td>...</td>\n",
       "      <td>...</td>\n",
       "      <td>...</td>\n",
       "      <td>...</td>\n",
       "      <td>...</td>\n",
       "      <td>...</td>\n",
       "    </tr>\n",
       "    <tr>\n",
       "      <th>1150</th>\n",
       "      <td>1150</td>\n",
       "      <td>https://img.pokemondb.net/sprites/scarlet-viol...</td>\n",
       "      <td>971</td>\n",
       "      <td>Greavard</td>\n",
       "      <td>Ghost</td>\n",
       "      <td>NaN</td>\n",
       "      <td>290</td>\n",
       "      <td>50</td>\n",
       "      <td>61</td>\n",
       "      <td>60</td>\n",
       "      <td>30</td>\n",
       "      <td>55</td>\n",
       "      <td>34</td>\n",
       "    </tr>\n",
       "    <tr>\n",
       "      <th>1166</th>\n",
       "      <td>1166</td>\n",
       "      <td>https://img.pokemondb.net/sprites/scarlet-viol...</td>\n",
       "      <td>984</td>\n",
       "      <td>Great Tusk</td>\n",
       "      <td>Ground</td>\n",
       "      <td>Fighting</td>\n",
       "      <td>570</td>\n",
       "      <td>115</td>\n",
       "      <td>131</td>\n",
       "      <td>131</td>\n",
       "      <td>53</td>\n",
       "      <td>53</td>\n",
       "      <td>87</td>\n",
       "    </tr>\n",
       "    <tr>\n",
       "      <th>1181</th>\n",
       "      <td>1181</td>\n",
       "      <td>https://img.pokemondb.net/sprites/scarlet-viol...</td>\n",
       "      <td>999</td>\n",
       "      <td>Gimmighoul Chest Form</td>\n",
       "      <td>Ghost</td>\n",
       "      <td>NaN</td>\n",
       "      <td>300</td>\n",
       "      <td>45</td>\n",
       "      <td>30</td>\n",
       "      <td>70</td>\n",
       "      <td>75</td>\n",
       "      <td>70</td>\n",
       "      <td>10</td>\n",
       "    </tr>\n",
       "    <tr>\n",
       "      <th>1182</th>\n",
       "      <td>1182</td>\n",
       "      <td>https://img.pokemondb.net/sprites/scarlet-viol...</td>\n",
       "      <td>999</td>\n",
       "      <td>Gimmighoul Roaming Form</td>\n",
       "      <td>Ghost</td>\n",
       "      <td>NaN</td>\n",
       "      <td>300</td>\n",
       "      <td>45</td>\n",
       "      <td>30</td>\n",
       "      <td>25</td>\n",
       "      <td>75</td>\n",
       "      <td>45</td>\n",
       "      <td>80</td>\n",
       "    </tr>\n",
       "    <tr>\n",
       "      <th>1183</th>\n",
       "      <td>1183</td>\n",
       "      <td>https://img.pokemondb.net/sprites/scarlet-viol...</td>\n",
       "      <td>1000</td>\n",
       "      <td>Gholdengo</td>\n",
       "      <td>Steel</td>\n",
       "      <td>Ghost</td>\n",
       "      <td>550</td>\n",
       "      <td>87</td>\n",
       "      <td>60</td>\n",
       "      <td>95</td>\n",
       "      <td>133</td>\n",
       "      <td>91</td>\n",
       "      <td>84</td>\n",
       "    </tr>\n",
       "  </tbody>\n",
       "</table>\n",
       "<p>84 rows × 13 columns</p>\n",
       "</div>"
      ],
      "text/plain": [
       "      Unnamed: 0                                          image_url    Id  \\\n",
       "55            55  https://img.pokemondb.net/sprites/sword-shield...    42   \n",
       "57            57  https://img.pokemondb.net/sprites/sword-shield...    44   \n",
       "73            73  https://img.pokemondb.net/sprites/sword-shield...    55   \n",
       "76            76  https://img.pokemondb.net/sprites/sword-shield...    58   \n",
       "77            77  https://img.pokemondb.net/sprites/scarlet-viol...    58   \n",
       "...          ...                                                ...   ...   \n",
       "1150        1150  https://img.pokemondb.net/sprites/scarlet-viol...   971   \n",
       "1166        1166  https://img.pokemondb.net/sprites/scarlet-viol...   984   \n",
       "1181        1181  https://img.pokemondb.net/sprites/scarlet-viol...   999   \n",
       "1182        1182  https://img.pokemondb.net/sprites/scarlet-viol...   999   \n",
       "1183        1183  https://img.pokemondb.net/sprites/scarlet-viol...  1000   \n",
       "\n",
       "                            Names   Type1     Type2  Total   HP  Attack  \\\n",
       "55                         Golbat  Poison    Flying    455   75      80   \n",
       "57                          Gloom   Grass    Poison    395   60      65   \n",
       "73                        Golduck   Water       NaN    500   80      82   \n",
       "76                      Growlithe    Fire       NaN    350   55      70   \n",
       "77    Growlithe Hisuian Growlithe    Fire      Rock    350   60      75   \n",
       "...                           ...     ...       ...    ...  ...     ...   \n",
       "1150                     Greavard   Ghost       NaN    290   50      61   \n",
       "1166                   Great Tusk  Ground  Fighting    570  115     131   \n",
       "1181        Gimmighoul Chest Form   Ghost       NaN    300   45      30   \n",
       "1182      Gimmighoul Roaming Form   Ghost       NaN    300   45      30   \n",
       "1183                    Gholdengo   Steel     Ghost    550   87      60   \n",
       "\n",
       "      Defense  Sp. Atk  Sp. Def  Speed  \n",
       "55         70       65       75     90  \n",
       "57         70       85       75     40  \n",
       "73         78       95       80     85  \n",
       "76         45       70       50     60  \n",
       "77         45       65       50     55  \n",
       "...       ...      ...      ...    ...  \n",
       "1150       60       30       55     34  \n",
       "1166      131       53       53     87  \n",
       "1181       70       75       70     10  \n",
       "1182       25       75       45     80  \n",
       "1183       95      133       91     84  \n",
       "\n",
       "[84 rows x 13 columns]"
      ]
     },
     "execution_count": 101,
     "metadata": {},
     "output_type": "execute_result"
    }
   ],
   "source": [
    "df[df['Names'].str[0]=='G']"
   ]
  },
  {
   "cell_type": "markdown",
   "id": "c123ee6f",
   "metadata": {},
   "source": [
    "### Find the rows where defense is between 5 and 14"
   ]
  },
  {
   "cell_type": "code",
   "execution_count": 65,
   "id": "63fbd651",
   "metadata": {},
   "outputs": [
    {
     "data": {
      "text/html": [
       "<div>\n",
       "<style scoped>\n",
       "    .dataframe tbody tr th:only-of-type {\n",
       "        vertical-align: middle;\n",
       "    }\n",
       "\n",
       "    .dataframe tbody tr th {\n",
       "        vertical-align: top;\n",
       "    }\n",
       "\n",
       "    .dataframe thead th {\n",
       "        text-align: right;\n",
       "    }\n",
       "</style>\n",
       "<table border=\"1\" class=\"dataframe\">\n",
       "  <thead>\n",
       "    <tr style=\"text-align: right;\">\n",
       "      <th></th>\n",
       "      <th>Unnamed: 0</th>\n",
       "      <th>image_url</th>\n",
       "      <th>Id</th>\n",
       "      <th>Names</th>\n",
       "      <th>Type1</th>\n",
       "      <th>Type2</th>\n",
       "      <th>Total</th>\n",
       "      <th>HP</th>\n",
       "      <th>Attack</th>\n",
       "      <th>Defense</th>\n",
       "      <th>Sp. Atk</th>\n",
       "      <th>Sp. Def</th>\n",
       "      <th>Speed</th>\n",
       "    </tr>\n",
       "  </thead>\n",
       "  <tbody>\n",
       "    <tr>\n",
       "      <th>151</th>\n",
       "      <td>151</td>\n",
       "      <td>https://img.pokemondb.net/sprites/sword-shield...</td>\n",
       "      <td>113</td>\n",
       "      <td>Chansey</td>\n",
       "      <td>Normal</td>\n",
       "      <td>NaN</td>\n",
       "      <td>450</td>\n",
       "      <td>250</td>\n",
       "      <td>5</td>\n",
       "      <td>5</td>\n",
       "      <td>35</td>\n",
       "      <td>105</td>\n",
       "      <td>50</td>\n",
       "    </tr>\n",
       "    <tr>\n",
       "      <th>305</th>\n",
       "      <td>305</td>\n",
       "      <td>https://img.pokemondb.net/sprites/sword-shield...</td>\n",
       "      <td>242</td>\n",
       "      <td>Blissey</td>\n",
       "      <td>Normal</td>\n",
       "      <td>NaN</td>\n",
       "      <td>540</td>\n",
       "      <td>255</td>\n",
       "      <td>10</td>\n",
       "      <td>10</td>\n",
       "      <td>75</td>\n",
       "      <td>135</td>\n",
       "      <td>55</td>\n",
       "    </tr>\n",
       "    <tr>\n",
       "      <th>539</th>\n",
       "      <td>539</td>\n",
       "      <td>https://img.pokemondb.net/sprites/sword-shield...</td>\n",
       "      <td>440</td>\n",
       "      <td>Happiny</td>\n",
       "      <td>Normal</td>\n",
       "      <td>NaN</td>\n",
       "      <td>220</td>\n",
       "      <td>100</td>\n",
       "      <td>5</td>\n",
       "      <td>5</td>\n",
       "      <td>15</td>\n",
       "      <td>65</td>\n",
       "      <td>30</td>\n",
       "    </tr>\n",
       "  </tbody>\n",
       "</table>\n",
       "</div>"
      ],
      "text/plain": [
       "     Unnamed: 0                                          image_url   Id  \\\n",
       "151         151  https://img.pokemondb.net/sprites/sword-shield...  113   \n",
       "305         305  https://img.pokemondb.net/sprites/sword-shield...  242   \n",
       "539         539  https://img.pokemondb.net/sprites/sword-shield...  440   \n",
       "\n",
       "       Names   Type1 Type2  Total   HP  Attack  Defense  Sp. Atk  Sp. Def  \\\n",
       "151  Chansey  Normal   NaN    450  250       5        5       35      105   \n",
       "305  Blissey  Normal   NaN    540  255      10       10       75      135   \n",
       "539  Happiny  Normal   NaN    220  100       5        5       15       65   \n",
       "\n",
       "     Speed  \n",
       "151     50  \n",
       "305     55  \n",
       "539     30  "
      ]
     },
     "execution_count": 65,
     "metadata": {},
     "output_type": "execute_result"
    }
   ],
   "source": [
    "df[df['Defense']<15]"
   ]
  },
  {
   "cell_type": "markdown",
   "id": "f7c5ca1e",
   "metadata": {},
   "source": [
    "### find the rows where type2 is fire and type1 is ground"
   ]
  },
  {
   "cell_type": "code",
   "execution_count": 37,
   "id": "848ec41d",
   "metadata": {},
   "outputs": [
    {
     "data": {
      "text/plain": [
       "False"
      ]
     },
     "execution_count": 37,
     "metadata": {},
     "output_type": "execute_result"
    }
   ],
   "source": [
    "[df[['Type2', 'Type1']]]==['Fire', 'Ground']"
   ]
  },
  {
   "cell_type": "code",
   "execution_count": 42,
   "id": "60b99e0a",
   "metadata": {},
   "outputs": [
    {
     "data": {
      "text/plain": [
       "[         Type2     Type1\n",
       " 0       Poison     Grass\n",
       " 1       Poison     Grass\n",
       " 2       Poison     Grass\n",
       " 3       Poison     Grass\n",
       " 4          NaN      Fire\n",
       " ...        ...       ...\n",
       " 1189  Fighting     Fairy\n",
       " 1190    Dragon  Fighting\n",
       " 1191    Dragon  Electric\n",
       " 1192    Dragon     Water\n",
       " 1193   Psychic     Grass\n",
       " \n",
       " [1194 rows x 2 columns]]"
      ]
     },
     "execution_count": 42,
     "metadata": {},
     "output_type": "execute_result"
    }
   ],
   "source": [
    "[df[['Type2', 'Type1']]]"
   ]
  },
  {
   "cell_type": "code",
   "execution_count": 69,
   "id": "a6af5e69",
   "metadata": {},
   "outputs": [
    {
     "data": {
      "text/plain": [
       "[         Type2     Type1\n",
       " 0       Poison     Grass\n",
       " 1       Poison     Grass\n",
       " 2       Poison     Grass\n",
       " 3       Poison     Grass\n",
       " 4          NaN      Fire\n",
       " ...        ...       ...\n",
       " 1189  Fighting     Fairy\n",
       " 1190    Dragon  Fighting\n",
       " 1191    Dragon  Electric\n",
       " 1192    Dragon     Water\n",
       " 1193   Psychic     Grass\n",
       " \n",
       " [1194 rows x 2 columns]]"
      ]
     },
     "execution_count": 69,
     "metadata": {},
     "output_type": "execute_result"
    }
   ],
   "source": [
    "[df[['Type2', 'Type1']]]"
   ]
  },
  {
   "cell_type": "code",
   "execution_count": 79,
   "id": "33e1464a",
   "metadata": {},
   "outputs": [
    {
     "ename": "SyntaxError",
     "evalue": "unexpected EOF while parsing (3017644969.py, line 1)",
     "output_type": "error",
     "traceback": [
      "\u001b[1;36m  Input \u001b[1;32mIn [79]\u001b[1;36m\u001b[0m\n\u001b[1;33m    df[df['Type1']=='Ground' & df[df['Type2']=='Fire']\u001b[0m\n\u001b[1;37m                                                      ^\u001b[0m\n\u001b[1;31mSyntaxError\u001b[0m\u001b[1;31m:\u001b[0m unexpected EOF while parsing\n"
     ]
    }
   ],
   "source": [
    "df[df['Type1']=='Ground' & df[df['Type2']=='Fire']"
   ]
  },
  {
   "cell_type": "code",
   "execution_count": 80,
   "id": "18a05a00",
   "metadata": {},
   "outputs": [],
   "source": [
    "x_1 =df['Type1']=='Ground'"
   ]
  },
  {
   "cell_type": "code",
   "execution_count": 81,
   "id": "44afe1cb",
   "metadata": {},
   "outputs": [],
   "source": [
    "x_2 =df['Type2']=='Fire'"
   ]
  },
  {
   "cell_type": "code",
   "execution_count": 100,
   "id": "cb431aa3",
   "metadata": {},
   "outputs": [
    {
     "name": "stdout",
     "output_type": "stream",
     "text": [
      "0       False\n",
      "1       False\n",
      "2       False\n",
      "3       False\n",
      "4       False\n",
      "        ...  \n",
      "1189    False\n",
      "1190    False\n",
      "1191    False\n",
      "1192    False\n",
      "1193    False\n",
      "Name: Type1, Length: 1194, dtype: bool 0       False\n",
      "1       False\n",
      "2       False\n",
      "3       False\n",
      "4       False\n",
      "        ...  \n",
      "1189    False\n",
      "1190    False\n",
      "1191    False\n",
      "1192    False\n",
      "1193    False\n",
      "Name: Type2, Length: 1194, dtype: bool\n"
     ]
    }
   ],
   "source": [
    "print(x_1, x_2)"
   ]
  },
  {
   "cell_type": "code",
   "execution_count": 97,
   "id": "05f10c43",
   "metadata": {},
   "outputs": [
    {
     "data": {
      "text/html": [
       "<div>\n",
       "<style scoped>\n",
       "    .dataframe tbody tr th:only-of-type {\n",
       "        vertical-align: middle;\n",
       "    }\n",
       "\n",
       "    .dataframe tbody tr th {\n",
       "        vertical-align: top;\n",
       "    }\n",
       "\n",
       "    .dataframe thead th {\n",
       "        text-align: right;\n",
       "    }\n",
       "</style>\n",
       "<table border=\"1\" class=\"dataframe\">\n",
       "  <thead>\n",
       "    <tr style=\"text-align: right;\">\n",
       "      <th></th>\n",
       "      <th>Unnamed: 0</th>\n",
       "      <th>image_url</th>\n",
       "      <th>Id</th>\n",
       "      <th>Names</th>\n",
       "      <th>Type1</th>\n",
       "      <th>Type2</th>\n",
       "      <th>Total</th>\n",
       "      <th>HP</th>\n",
       "      <th>Attack</th>\n",
       "      <th>Defense</th>\n",
       "      <th>Sp. Atk</th>\n",
       "      <th>Sp. Def</th>\n",
       "      <th>Speed</th>\n",
       "    </tr>\n",
       "  </thead>\n",
       "  <tbody>\n",
       "    <tr>\n",
       "      <th>171</th>\n",
       "      <td>171</td>\n",
       "      <td>https://img.pokemondb.net/sprites/scarlet-viol...</td>\n",
       "      <td>128</td>\n",
       "      <td>Tauros Blaze Breed</td>\n",
       "      <td>Fighting</td>\n",
       "      <td>Fire</td>\n",
       "      <td>490</td>\n",
       "      <td>75</td>\n",
       "      <td>110</td>\n",
       "      <td>105</td>\n",
       "      <td>30</td>\n",
       "      <td>70</td>\n",
       "      <td>100</td>\n",
       "    </tr>\n",
       "    <tr>\n",
       "      <th>290</th>\n",
       "      <td>290</td>\n",
       "      <td>https://img.pokemondb.net/sprites/sword-shield...</td>\n",
       "      <td>228</td>\n",
       "      <td>Houndour</td>\n",
       "      <td>Dark</td>\n",
       "      <td>Fire</td>\n",
       "      <td>330</td>\n",
       "      <td>45</td>\n",
       "      <td>60</td>\n",
       "      <td>30</td>\n",
       "      <td>80</td>\n",
       "      <td>50</td>\n",
       "      <td>65</td>\n",
       "    </tr>\n",
       "    <tr>\n",
       "      <th>291</th>\n",
       "      <td>291</td>\n",
       "      <td>https://img.pokemondb.net/sprites/sword-shield...</td>\n",
       "      <td>229</td>\n",
       "      <td>Houndoom</td>\n",
       "      <td>Dark</td>\n",
       "      <td>Fire</td>\n",
       "      <td>500</td>\n",
       "      <td>75</td>\n",
       "      <td>90</td>\n",
       "      <td>50</td>\n",
       "      <td>110</td>\n",
       "      <td>80</td>\n",
       "      <td>95</td>\n",
       "    </tr>\n",
       "    <tr>\n",
       "      <th>292</th>\n",
       "      <td>292</td>\n",
       "      <td>https://img.pokemondb.net/sprites/sword-shield...</td>\n",
       "      <td>229</td>\n",
       "      <td>Houndoom Mega Houndoom</td>\n",
       "      <td>Dark</td>\n",
       "      <td>Fire</td>\n",
       "      <td>600</td>\n",
       "      <td>75</td>\n",
       "      <td>90</td>\n",
       "      <td>90</td>\n",
       "      <td>140</td>\n",
       "      <td>90</td>\n",
       "      <td>115</td>\n",
       "    </tr>\n",
       "    <tr>\n",
       "      <th>473</th>\n",
       "      <td>473</td>\n",
       "      <td>https://img.pokemondb.net/sprites/sword-shield...</td>\n",
       "      <td>383</td>\n",
       "      <td>Groudon Primal Groudon</td>\n",
       "      <td>Ground</td>\n",
       "      <td>Fire</td>\n",
       "      <td>770</td>\n",
       "      <td>100</td>\n",
       "      <td>180</td>\n",
       "      <td>160</td>\n",
       "      <td>150</td>\n",
       "      <td>90</td>\n",
       "      <td>90</td>\n",
       "    </tr>\n",
       "    <tr>\n",
       "      <th>583</th>\n",
       "      <td>583</td>\n",
       "      <td>https://img.pokemondb.net/sprites/sword-shield...</td>\n",
       "      <td>479</td>\n",
       "      <td>Rotom Heat Rotom</td>\n",
       "      <td>Electric</td>\n",
       "      <td>Fire</td>\n",
       "      <td>520</td>\n",
       "      <td>50</td>\n",
       "      <td>65</td>\n",
       "      <td>107</td>\n",
       "      <td>105</td>\n",
       "      <td>107</td>\n",
       "      <td>86</td>\n",
       "    </tr>\n",
       "    <tr>\n",
       "      <th>606</th>\n",
       "      <td>606</td>\n",
       "      <td>https://img.pokemondb.net/sprites/sword-shield...</td>\n",
       "      <td>494</td>\n",
       "      <td>Victini</td>\n",
       "      <td>Psychic</td>\n",
       "      <td>Fire</td>\n",
       "      <td>600</td>\n",
       "      <td>100</td>\n",
       "      <td>100</td>\n",
       "      <td>100</td>\n",
       "      <td>100</td>\n",
       "      <td>100</td>\n",
       "      <td>100</td>\n",
       "    </tr>\n",
       "    <tr>\n",
       "      <th>676</th>\n",
       "      <td>676</td>\n",
       "      <td>https://img.pokemondb.net/sprites/sword-shield...</td>\n",
       "      <td>555</td>\n",
       "      <td>Darmanitan Galarian Zen Mode</td>\n",
       "      <td>Ice</td>\n",
       "      <td>Fire</td>\n",
       "      <td>540</td>\n",
       "      <td>105</td>\n",
       "      <td>160</td>\n",
       "      <td>55</td>\n",
       "      <td>30</td>\n",
       "      <td>55</td>\n",
       "      <td>135</td>\n",
       "    </tr>\n",
       "    <tr>\n",
       "      <th>731</th>\n",
       "      <td>731</td>\n",
       "      <td>https://img.pokemondb.net/sprites/sword-shield...</td>\n",
       "      <td>607</td>\n",
       "      <td>Litwick</td>\n",
       "      <td>Ghost</td>\n",
       "      <td>Fire</td>\n",
       "      <td>275</td>\n",
       "      <td>50</td>\n",
       "      <td>30</td>\n",
       "      <td>55</td>\n",
       "      <td>65</td>\n",
       "      <td>55</td>\n",
       "      <td>20</td>\n",
       "    </tr>\n",
       "    <tr>\n",
       "      <th>732</th>\n",
       "      <td>732</td>\n",
       "      <td>https://img.pokemondb.net/sprites/sword-shield...</td>\n",
       "      <td>608</td>\n",
       "      <td>Lampent</td>\n",
       "      <td>Ghost</td>\n",
       "      <td>Fire</td>\n",
       "      <td>370</td>\n",
       "      <td>60</td>\n",
       "      <td>40</td>\n",
       "      <td>60</td>\n",
       "      <td>95</td>\n",
       "      <td>60</td>\n",
       "      <td>55</td>\n",
       "    </tr>\n",
       "    <tr>\n",
       "      <th>733</th>\n",
       "      <td>733</td>\n",
       "      <td>https://img.pokemondb.net/sprites/sword-shield...</td>\n",
       "      <td>609</td>\n",
       "      <td>Chandelure</td>\n",
       "      <td>Ghost</td>\n",
       "      <td>Fire</td>\n",
       "      <td>520</td>\n",
       "      <td>60</td>\n",
       "      <td>55</td>\n",
       "      <td>90</td>\n",
       "      <td>145</td>\n",
       "      <td>90</td>\n",
       "      <td>80</td>\n",
       "    </tr>\n",
       "    <tr>\n",
       "      <th>762</th>\n",
       "      <td>762</td>\n",
       "      <td>https://img.pokemondb.net/sprites/sword-shield...</td>\n",
       "      <td>636</td>\n",
       "      <td>Larvesta</td>\n",
       "      <td>Bug</td>\n",
       "      <td>Fire</td>\n",
       "      <td>360</td>\n",
       "      <td>55</td>\n",
       "      <td>85</td>\n",
       "      <td>55</td>\n",
       "      <td>50</td>\n",
       "      <td>55</td>\n",
       "      <td>60</td>\n",
       "    </tr>\n",
       "    <tr>\n",
       "      <th>763</th>\n",
       "      <td>763</td>\n",
       "      <td>https://img.pokemondb.net/sprites/sword-shield...</td>\n",
       "      <td>637</td>\n",
       "      <td>Volcarona</td>\n",
       "      <td>Bug</td>\n",
       "      <td>Fire</td>\n",
       "      <td>550</td>\n",
       "      <td>85</td>\n",
       "      <td>60</td>\n",
       "      <td>65</td>\n",
       "      <td>135</td>\n",
       "      <td>105</td>\n",
       "      <td>100</td>\n",
       "    </tr>\n",
       "    <tr>\n",
       "      <th>771</th>\n",
       "      <td>771</td>\n",
       "      <td>https://img.pokemondb.net/sprites/sword-shield...</td>\n",
       "      <td>643</td>\n",
       "      <td>Reshiram</td>\n",
       "      <td>Dragon</td>\n",
       "      <td>Fire</td>\n",
       "      <td>680</td>\n",
       "      <td>100</td>\n",
       "      <td>120</td>\n",
       "      <td>100</td>\n",
       "      <td>150</td>\n",
       "      <td>120</td>\n",
       "      <td>90</td>\n",
       "    </tr>\n",
       "    <tr>\n",
       "      <th>914</th>\n",
       "      <td>914</td>\n",
       "      <td>https://img.pokemondb.net/sprites/sword-shield...</td>\n",
       "      <td>757</td>\n",
       "      <td>Salandit</td>\n",
       "      <td>Poison</td>\n",
       "      <td>Fire</td>\n",
       "      <td>320</td>\n",
       "      <td>48</td>\n",
       "      <td>44</td>\n",
       "      <td>40</td>\n",
       "      <td>71</td>\n",
       "      <td>40</td>\n",
       "      <td>77</td>\n",
       "    </tr>\n",
       "    <tr>\n",
       "      <th>915</th>\n",
       "      <td>915</td>\n",
       "      <td>https://img.pokemondb.net/sprites/sword-shield...</td>\n",
       "      <td>758</td>\n",
       "      <td>Salazzle</td>\n",
       "      <td>Poison</td>\n",
       "      <td>Fire</td>\n",
       "      <td>480</td>\n",
       "      <td>68</td>\n",
       "      <td>64</td>\n",
       "      <td>60</td>\n",
       "      <td>111</td>\n",
       "      <td>60</td>\n",
       "      <td>117</td>\n",
       "    </tr>\n",
       "    <tr>\n",
       "      <th>999</th>\n",
       "      <td>999</td>\n",
       "      <td>https://img.pokemondb.net/sprites/sword-shield...</td>\n",
       "      <td>838</td>\n",
       "      <td>Carkol</td>\n",
       "      <td>Rock</td>\n",
       "      <td>Fire</td>\n",
       "      <td>410</td>\n",
       "      <td>80</td>\n",
       "      <td>60</td>\n",
       "      <td>90</td>\n",
       "      <td>60</td>\n",
       "      <td>70</td>\n",
       "      <td>50</td>\n",
       "    </tr>\n",
       "    <tr>\n",
       "      <th>1000</th>\n",
       "      <td>1000</td>\n",
       "      <td>https://img.pokemondb.net/sprites/sword-shield...</td>\n",
       "      <td>839</td>\n",
       "      <td>Coalossal</td>\n",
       "      <td>Rock</td>\n",
       "      <td>Fire</td>\n",
       "      <td>510</td>\n",
       "      <td>110</td>\n",
       "      <td>80</td>\n",
       "      <td>120</td>\n",
       "      <td>80</td>\n",
       "      <td>90</td>\n",
       "      <td>30</td>\n",
       "    </tr>\n",
       "    <tr>\n",
       "      <th>1130</th>\n",
       "      <td>1130</td>\n",
       "      <td>https://img.pokemondb.net/sprites/scarlet-viol...</td>\n",
       "      <td>952</td>\n",
       "      <td>Scovillain</td>\n",
       "      <td>Grass</td>\n",
       "      <td>Fire</td>\n",
       "      <td>486</td>\n",
       "      <td>65</td>\n",
       "      <td>108</td>\n",
       "      <td>65</td>\n",
       "      <td>108</td>\n",
       "      <td>65</td>\n",
       "      <td>75</td>\n",
       "    </tr>\n",
       "    <tr>\n",
       "      <th>1187</th>\n",
       "      <td>1187</td>\n",
       "      <td>https://img.pokemondb.net/sprites/scarlet-viol...</td>\n",
       "      <td>1004</td>\n",
       "      <td>Chi-Yu</td>\n",
       "      <td>Dark</td>\n",
       "      <td>Fire</td>\n",
       "      <td>570</td>\n",
       "      <td>55</td>\n",
       "      <td>80</td>\n",
       "      <td>80</td>\n",
       "      <td>135</td>\n",
       "      <td>120</td>\n",
       "      <td>100</td>\n",
       "    </tr>\n",
       "  </tbody>\n",
       "</table>\n",
       "</div>"
      ],
      "text/plain": [
       "      Unnamed: 0                                          image_url    Id  \\\n",
       "171          171  https://img.pokemondb.net/sprites/scarlet-viol...   128   \n",
       "290          290  https://img.pokemondb.net/sprites/sword-shield...   228   \n",
       "291          291  https://img.pokemondb.net/sprites/sword-shield...   229   \n",
       "292          292  https://img.pokemondb.net/sprites/sword-shield...   229   \n",
       "473          473  https://img.pokemondb.net/sprites/sword-shield...   383   \n",
       "583          583  https://img.pokemondb.net/sprites/sword-shield...   479   \n",
       "606          606  https://img.pokemondb.net/sprites/sword-shield...   494   \n",
       "676          676  https://img.pokemondb.net/sprites/sword-shield...   555   \n",
       "731          731  https://img.pokemondb.net/sprites/sword-shield...   607   \n",
       "732          732  https://img.pokemondb.net/sprites/sword-shield...   608   \n",
       "733          733  https://img.pokemondb.net/sprites/sword-shield...   609   \n",
       "762          762  https://img.pokemondb.net/sprites/sword-shield...   636   \n",
       "763          763  https://img.pokemondb.net/sprites/sword-shield...   637   \n",
       "771          771  https://img.pokemondb.net/sprites/sword-shield...   643   \n",
       "914          914  https://img.pokemondb.net/sprites/sword-shield...   757   \n",
       "915          915  https://img.pokemondb.net/sprites/sword-shield...   758   \n",
       "999          999  https://img.pokemondb.net/sprites/sword-shield...   838   \n",
       "1000        1000  https://img.pokemondb.net/sprites/sword-shield...   839   \n",
       "1130        1130  https://img.pokemondb.net/sprites/scarlet-viol...   952   \n",
       "1187        1187  https://img.pokemondb.net/sprites/scarlet-viol...  1004   \n",
       "\n",
       "                             Names     Type1 Type2  Total   HP  Attack  \\\n",
       "171             Tauros Blaze Breed  Fighting  Fire    490   75     110   \n",
       "290                       Houndour      Dark  Fire    330   45      60   \n",
       "291                       Houndoom      Dark  Fire    500   75      90   \n",
       "292         Houndoom Mega Houndoom      Dark  Fire    600   75      90   \n",
       "473         Groudon Primal Groudon    Ground  Fire    770  100     180   \n",
       "583               Rotom Heat Rotom  Electric  Fire    520   50      65   \n",
       "606                        Victini   Psychic  Fire    600  100     100   \n",
       "676   Darmanitan Galarian Zen Mode       Ice  Fire    540  105     160   \n",
       "731                        Litwick     Ghost  Fire    275   50      30   \n",
       "732                        Lampent     Ghost  Fire    370   60      40   \n",
       "733                     Chandelure     Ghost  Fire    520   60      55   \n",
       "762                       Larvesta       Bug  Fire    360   55      85   \n",
       "763                      Volcarona       Bug  Fire    550   85      60   \n",
       "771                       Reshiram    Dragon  Fire    680  100     120   \n",
       "914                       Salandit    Poison  Fire    320   48      44   \n",
       "915                       Salazzle    Poison  Fire    480   68      64   \n",
       "999                         Carkol      Rock  Fire    410   80      60   \n",
       "1000                     Coalossal      Rock  Fire    510  110      80   \n",
       "1130                    Scovillain     Grass  Fire    486   65     108   \n",
       "1187                        Chi-Yu      Dark  Fire    570   55      80   \n",
       "\n",
       "      Defense  Sp. Atk  Sp. Def  Speed  \n",
       "171       105       30       70    100  \n",
       "290        30       80       50     65  \n",
       "291        50      110       80     95  \n",
       "292        90      140       90    115  \n",
       "473       160      150       90     90  \n",
       "583       107      105      107     86  \n",
       "606       100      100      100    100  \n",
       "676        55       30       55    135  \n",
       "731        55       65       55     20  \n",
       "732        60       95       60     55  \n",
       "733        90      145       90     80  \n",
       "762        55       50       55     60  \n",
       "763        65      135      105    100  \n",
       "771       100      150      120     90  \n",
       "914        40       71       40     77  \n",
       "915        60      111       60    117  \n",
       "999        90       60       70     50  \n",
       "1000      120       80       90     30  \n",
       "1130       65      108       65     75  \n",
       "1187       80      135      120    100  "
      ]
     },
     "execution_count": 97,
     "metadata": {},
     "output_type": "execute_result"
    }
   ],
   "source": [
    "df[df['Type2']=='Fire' ]"
   ]
  },
  {
   "cell_type": "markdown",
   "id": "8e5c26e9",
   "metadata": {},
   "source": [
    "## Matplotlib\n",
    "\n",
    "1. scatter graph"
   ]
  },
  {
   "cell_type": "code",
   "execution_count": 102,
   "id": "c6ff146d",
   "metadata": {},
   "outputs": [],
   "source": [
    "import matplotlib.pyplot as plt"
   ]
  },
  {
   "cell_type": "code",
   "execution_count": 103,
   "id": "80a1e5b8",
   "metadata": {},
   "outputs": [],
   "source": [
    "import numpy as np"
   ]
  },
  {
   "cell_type": "markdown",
   "id": "1d662db8",
   "metadata": {},
   "source": [
    "### color attribute :\n",
    "\n",
    "color = np.array(['red','blue'])\n",
    "plt.show(x,y, colors = colors)"
   ]
  },
  {
   "cell_type": "code",
   "execution_count": 107,
   "id": "aa47ff1f",
   "metadata": {},
   "outputs": [
    {
     "data": {
      "image/png": "[encoded data removed]",
      "text/plain": [
       "<Figure size 432x288 with 1 Axes>"
      ]
     },
     "metadata": {
      "needs_background": "light"
     },
     "output_type": "display_data"
    }
   ],
   "source": [
    "x = np.array([5,7,8,7,2,17,2,9,4,11,12,9,6])\n",
    "y = np.array([99,86,87,88, 111, 86, 103, 87, 94, 78, 77, 85, 86])\n",
    "\n",
    "plt.scatter(x,y, color='hotpink')\n",
    "\n",
    "x = np.array([2,2,8,1,15,8,12,9,7,3,11,4,7,14,12])\n",
    "y = np.array([100, 105, 84, 105, 90, 99, 90, 95, 94, 100, 79, 112, 91, 80, 85])\n",
    "\n",
    "plt.scatter(x,y, color='#88c999')\n",
    "\n",
    "plt.show()\n"
   ]
  },
  {
   "cell_type": "markdown",
   "id": "3321ef93",
   "metadata": {},
   "source": [
    "## cmap attribute:"
   ]
  },
  {
   "cell_type": "code",
   "execution_count": null,
   "id": "3a92ea0f",
   "metadata": {},
   "outputs": [],
   "source": [
    "x = np.array([5,7,8,7,2,17,2,9,4,11,12,9,6])\n",
    "\n",
    "y = np.array([99,86,87,88,111,86,103,87, 94,78,77,85,86])\n",
    "colors = np.array(['red', 'green','blue','yellow','pink','black','orange','purple','beige','brown','gray','cyan','magenta'])\n",
    "\n",
    "\n",
    "plt.scatter(x,y, c=colors, cmap='viridis')\n",
    "plt.colorbar()\n",
    "plt.show()"
   ]
  },
  {
   "cell_type": "markdown",
   "id": "2fd73ce7",
   "metadata": {},
   "source": [
    "### color attribute:\n",
    "\n",
    "    set color of each dots"
   ]
  },
  {
   "cell_type": "code",
   "execution_count": 108,
   "id": "87e64df8",
   "metadata": {},
   "outputs": [
    {
     "data": {
      "image/png": "[encoded data removed]",
      "text/plain": [
       "<Figure size 432x288 with 1 Axes>"
      ]
     },
     "metadata": {
      "needs_background": "light"
     },
     "output_type": "display_data"
    }
   ],
   "source": [
    "x = np.array([5,7,8,7,2,17,2,9,4,11,12,9,6])\n",
    "\n",
    "y = np.array([99,86,87,88,111,86,103,87, 94,78,77,85,86])\n",
    "colors = np.array(['red', 'green','blue','yellow','pink','black','orange','purple','beige','brown','gray','cyan','magenta'])\n",
    "\n",
    "plt.scatter(x,y, c=colors)\n",
    "plt.show()"
   ]
  },
  {
   "cell_type": "markdown",
   "id": "c159ada6",
   "metadata": {},
   "source": [
    "### size attribute:\n",
    "    \n",
    "    set size of dots in scatter graph"
   ]
  },
  {
   "cell_type": "code",
   "execution_count": 113,
   "id": "2c92e2be",
   "metadata": {},
   "outputs": [
    {
     "data": {
      "image/png": "[encoded data removed]",
      "text/plain": [
       "<Figure size 432x288 with 1 Axes>"
      ]
     },
     "metadata": {
      "needs_background": "light"
     },
     "output_type": "display_data"
    }
   ],
   "source": [
    "x = np.array([5,7,8,7,2,17,2,9,4,11,12,9,6])\n",
    "\n",
    "y = np.array([99,86,87,88,111,86,103,87, 94,78,77,85,86])\n",
    "\n",
    "sizes =np.array([20,50,100,200,500,1000,60,90,10,300, 600, 800, 75])\n",
    "\n",
    "plt.scatter(x,y, s=sizes)\n",
    "\n",
    "plt.show()"
   ]
  },
  {
   "cell_type": "markdown",
   "id": "ae1b1f2a",
   "metadata": {},
   "source": [
    "### alpha attribute:\n",
    "    show the oppacity \n",
    "plt.scatter(x, alpha=0.5)"
   ]
  },
  {
   "cell_type": "code",
   "execution_count": 114,
   "id": "593eeb11",
   "metadata": {},
   "outputs": [
    {
     "data": {
      "image/png": "[encoded data removed]",
      "text/plain": [
       "<Figure size 432x288 with 1 Axes>"
      ]
     },
     "metadata": {
      "needs_background": "light"
     },
     "output_type": "display_data"
    }
   ],
   "source": [
    "x = np.array([5,7,8,7,2,17,2,9,4,11,12,9,6])\n",
    "\n",
    "y = np.array([99,86,87,88,111,86,103,87, 94,78,77,85,86])\n",
    "\n",
    "sizes =np.array([20,50,100,200,500,1000,60,90,10,300, 600, 800, 75])\n",
    "\n",
    "plt.scatter(x,y, s=sizes, alpha=0.5)\n",
    "\n",
    "plt.show()"
   ]
  },
  {
   "cell_type": "markdown",
   "id": "aef5cb7d",
   "metadata": {},
   "source": [
    "## Bar\n",
    "\n",
    "1. classification(true or false)\n",
    "2. ranking\n",
    "3. ratio\n",
    "4. where we want to do comparision we use this bar"
   ]
  },
  {
   "cell_type": "code",
   "execution_count": 115,
   "id": "c0e6a675",
   "metadata": {},
   "outputs": [
    {
     "data": {
      "image/png": "[encoded data removed]",
      "text/plain": [
       "<Figure size 432x288 with 1 Axes>"
      ]
     },
     "metadata": {
      "needs_background": "light"
     },
     "output_type": "display_data"
    }
   ],
   "source": [
    "x = np.array([\"A\", \"B\", \"C\", \"D\"])\n",
    "y = np.array([3,8,1,10])\n",
    "plt.bar(x,y)\n",
    "plt.show()"
   ]
  },
  {
   "cell_type": "markdown",
   "id": "4fec7271",
   "metadata": {},
   "source": [
    "### horizental bar : barh -> it is use to make bar in horizental form"
   ]
  },
  {
   "cell_type": "code",
   "execution_count": 116,
   "id": "9dda3c2c",
   "metadata": {},
   "outputs": [
    {
     "data": {
      "image/png": "[encoded data removed]",
      "text/plain": [
       "<Figure size 432x288 with 1 Axes>"
      ]
     },
     "metadata": {
      "needs_background": "light"
     },
     "output_type": "display_data"
    }
   ],
   "source": [
    "x = np.array([\"A\", \"B\", \"C\", \"D\"])\n",
    "y = np.array([3,8,1,10])\n",
    "plt.barh(x,y)\n",
    "plt.show()"
   ]
  },
  {
   "cell_type": "markdown",
   "id": "994e0b25",
   "metadata": {},
   "source": [
    "### how to use color attribute:"
   ]
  },
  {
   "cell_type": "code",
   "execution_count": 117,
   "id": "c64ff01d",
   "metadata": {},
   "outputs": [
    {
     "data": {
      "image/png": "[encoded data removed]",
      "text/plain": [
       "<Figure size 432x288 with 1 Axes>"
      ]
     },
     "metadata": {
      "needs_background": "light"
     },
     "output_type": "display_data"
    }
   ],
   "source": [
    "x = np.array([\"A\", \"B\", \"C\", \"D\"])\n",
    "y = np.array([3,8,1,10])\n",
    "plt.bar(x,y, color = 'gray')\n",
    "plt.show()"
   ]
  },
  {
   "cell_type": "markdown",
   "id": "42d48059",
   "metadata": {},
   "source": [
    "### how to use width:"
   ]
  },
  {
   "cell_type": "code",
   "execution_count": 119,
   "id": "7da63eca",
   "metadata": {},
   "outputs": [
    {
     "data": {
      "image/png": "[encoded data removed]",
      "text/plain": [
       "<Figure size 432x288 with 1 Axes>"
      ]
     },
     "metadata": {
      "needs_background": "light"
     },
     "output_type": "display_data"
    }
   ],
   "source": [
    "x = np.array([\"A\", \"B\", \"C\", \"D\"])\n",
    "y = np.array([3,8,1,10])\n",
    "plt.bar(x,y, width=0.3)\n",
    "plt.show()"
   ]
  },
  {
   "cell_type": "markdown",
   "id": "8dfae092",
   "metadata": {},
   "source": [
    "### Histogram Graph\n",
    "\n",
    "use for frequency"
   ]
  },
  {
   "cell_type": "code",
   "execution_count": 120,
   "id": "4d2f470b",
   "metadata": {},
   "outputs": [
    {
     "data": {
      "image/png": "[encoded data removed]",
      "text/plain": [
       "<Figure size 432x288 with 1 Axes>"
      ]
     },
     "metadata": {
      "needs_background": "light"
     },
     "output_type": "display_data"
    }
   ],
   "source": [
    "x = np.random.normal(170,10,250)\n",
    "plt.hist(x)\n",
    "plt.show()"
   ]
  },
  {
   "cell_type": "markdown",
   "id": "1c304d9d",
   "metadata": {},
   "source": [
    "### Pie Chart"
   ]
  },
  {
   "cell_type": "code",
   "execution_count": 121,
   "id": "bf387bec",
   "metadata": {},
   "outputs": [
    {
     "data": {
      "image/png": "[encoded data removed]",
      "text/plain": [
       "<Figure size 432x288 with 1 Axes>"
      ]
     },
     "metadata": {},
     "output_type": "display_data"
    }
   ],
   "source": [
    "y = np.array([35,25,25,15])\n",
    "plt.pie(y)\n",
    "plt.show()"
   ]
  },
  {
   "cell_type": "code",
   "execution_count": 123,
   "id": "a7f28b70",
   "metadata": {},
   "outputs": [
    {
     "data": {
      "image/png": "[encoded data removed]",
      "text/plain": [
       "<Figure size 432x288 with 1 Axes>"
      ]
     },
     "metadata": {},
     "output_type": "display_data"
    }
   ],
   "source": [
    "y = np.array([35,25,25,15])\n",
    "mylabels = ['Apples','Banana','Cherries','Dates']\n",
    "plt.title(\"Bakhtawar\")\n",
    "plt.pie(y, labels = mylabels)\n",
    "plt.show()"
   ]
  },
  {
   "cell_type": "code",
   "execution_count": 125,
   "id": "3bdbf417",
   "metadata": {},
   "outputs": [
    {
     "data": {
      "image/png": "[encoded data removed]",
      "text/plain": [
       "<Figure size 432x288 with 1 Axes>"
      ]
     },
     "metadata": {},
     "output_type": "display_data"
    }
   ],
   "source": [
    "y = np.array([35,25,25,15])\n",
    "mylabels = ['Apples','Banana','Cherries','Dates']\n",
    "plt.title(\"Bakhtawar\")\n",
    "plt.pie(y, labels = mylabels, startangle=180)\n",
    "plt.show()"
   ]
  },
  {
   "cell_type": "code",
   "execution_count": 128,
   "id": "cbf86b28",
   "metadata": {},
   "outputs": [
    {
     "data": {
      "image/png": "[encoded data removed]",
      "text/plain": [
       "<Figure size 432x288 with 1 Axes>"
      ]
     },
     "metadata": {},
     "output_type": "display_data"
    }
   ],
   "source": [
    "y = np.array([35,25,25,15])\n",
    "mylabels = ['Apples','Banana','Cherries','Dates']\n",
    "myexplode = [0.2,0,0,0]\n",
    "plt.title(\"Bakhtawar\")\n",
    "plt.pie(y, labels = mylabels, explode=myexplode)\n",
    "plt.show()"
   ]
  },
  {
   "cell_type": "code",
   "execution_count": 129,
   "id": "b6126999",
   "metadata": {},
   "outputs": [
    {
     "data": {
      "image/png": "[encoded data removed]",
      "text/plain": [
       "<Figure size 432x288 with 1 Axes>"
      ]
     },
     "metadata": {},
     "output_type": "display_data"
    }
   ],
   "source": [
    "y = np.array([35,25,25,15])\n",
    "mylabels = ['Apples','Banana','Cherries','Dates']\n",
    "myexplode = [0,0,0.4,0]\n",
    "plt.title(\"Bakhtawar\")\n",
    "plt.pie(y, labels = mylabels, explode=myexplode)\n",
    "plt.show()"
   ]
  },
  {
   "cell_type": "code",
   "execution_count": 130,
   "id": "99c869fd",
   "metadata": {},
   "outputs": [
    {
     "data": {
      "image/png": "[encoded data removed]",
      "text/plain": [
       "<Figure size 432x288 with 1 Axes>"
      ]
     },
     "metadata": {},
     "output_type": "display_data"
    }
   ],
   "source": [
    "y = np.array([35,25,25,15])\n",
    "mylabels = ['Apples','Banana','Cherries','Dates']\n",
    "myexplode = [0.2,0,0,0]\n",
    "plt.title(\"Bakhtawar\")\n",
    "plt.pie(y, labels = mylabels, explode=myexplode, shadow=True)\n",
    "plt.show()"
   ]
  },
  {
   "cell_type": "code",
   "execution_count": 132,
   "id": "be8883e1",
   "metadata": {},
   "outputs": [
    {
     "data": {
      "image/png": "[encoded data removed]",
      "text/plain": [
       "<Figure size 432x288 with 1 Axes>"
      ]
     },
     "metadata": {},
     "output_type": "display_data"
    }
   ],
   "source": [
    "y = np.array([35,25,25,15])\n",
    "mylabels = ['Apples','Banana','Cherries','Dates']\n",
    "mycolors=['black','hotpink','b','#4CAF50']\n",
    "myexplode = [0.2,0,0,0]\n",
    "plt.title(\"Bakhtawar\")\n",
    "plt.pie(y, labels = mylabels,colors=mycolors, explode=myexplode, shadow=True)\n",
    "plt.show()"
   ]
  },
  {
   "cell_type": "code",
   "execution_count": 133,
   "id": "f77fbec8",
   "metadata": {},
   "outputs": [
    {
     "data": {
      "image/png": "[encoded data removed]",
      "text/plain": [
       "<Figure size 432x288 with 1 Axes>"
      ]
     },
     "metadata": {},
     "output_type": "display_data"
    }
   ],
   "source": [
    "y = np.array([35,25,25,15])\n",
    "mylabels = ['Apples','Banana','Cherries','Dates']\n",
    "\n",
    "plt.pie(y, labels = mylabels, shadow=True)\n",
    "plt.legend()\n",
    "plt.show()"
   ]
  },
  {
   "cell_type": "code",
   "execution_count": 134,
   "id": "3a6b00f2",
   "metadata": {},
   "outputs": [
    {
     "data": {
      "image/png": "[encoded data removed]",
      "text/plain": [
       "<Figure size 432x288 with 1 Axes>"
      ]
     },
     "metadata": {},
     "output_type": "display_data"
    }
   ],
   "source": [
    "y = np.array([35,25,25,15])\n",
    "mylabels = ['Apples','Banana','Cherries','Dates']\n",
    "\n",
    "plt.pie(y, labels = mylabels, shadow=True)\n",
    "plt.legend(title = \"Four Fruits By Bakhtawar\")\n",
    "plt.show()"
   ]
  },
  {
   "cell_type": "code",
   "execution_count": null,
   "id": "c8ff7223",
   "metadata": {},
   "outputs": [],
   "source": []
  }
 ],
 "metadata": {
  "kernelspec": {
   "display_name": "Python 3 (ipykernel)",
   "language": "python",
   "name": "python3"
  },
  "language_info": {
   "codemirror_mode": {
    "name": "ipython",
    "version": 3
   },
   "file_extension": ".py",
   "mimetype": "text/x-python",
   "name": "python",
   "nbconvert_exporter": "python",
   "pygments_lexer": "ipython3",
   "version": "3.9.12"
  }
 },
 "nbformat": 4,
 "nbformat_minor": 5
}
