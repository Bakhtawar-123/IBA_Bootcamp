{
 "cells": [
  {
   "cell_type": "markdown",
   "id": "4e0d4bb8",
   "metadata": {},
   "source": [
    "# basic riddle"
   ]
  },
  {
   "cell_type": "code",
   "execution_count": 4,
   "id": "81e75d5a",
   "metadata": {},
   "outputs": [
    {
     "ename": "SyntaxError",
     "evalue": "invalid syntax (4114615888.py, line 3)",
     "output_type": "error",
     "traceback": [
      "\u001b[1;36m  Input \u001b[1;32mIn [4]\u001b[1;36m\u001b[0m\n\u001b[1;33m    1st_guard_take = apples / 2\u001b[0m\n\u001b[1;37m     ^\u001b[0m\n\u001b[1;31mSyntaxError\u001b[0m\u001b[1;31m:\u001b[0m invalid syntax\n"
     ]
    }
   ],
   "source": [
    "apples = 4\n",
    "\n",
    "def guard1(apples):\n",
    "    1st_guard_take = apples / 2\n",
    "    return apples"
   ]
  },
  {
   "cell_type": "code",
   "execution_count": 5,
   "id": "69b9da1e",
   "metadata": {},
   "outputs": [
    {
     "ename": "NameError",
     "evalue": "name 'guard1' is not defined",
     "output_type": "error",
     "traceback": [
      "\u001b[1;31m---------------------------------------------------------------------------\u001b[0m",
      "\u001b[1;31mNameError\u001b[0m                                 Traceback (most recent call last)",
      "Input \u001b[1;32mIn [5]\u001b[0m, in \u001b[0;36m<cell line: 1>\u001b[1;34m()\u001b[0m\n\u001b[1;32m----> 1\u001b[0m \u001b[43mguard1\u001b[49m()\n",
      "\u001b[1;31mNameError\u001b[0m: name 'guard1' is not defined"
     ]
    }
   ],
   "source": [
    "guard1()"
   ]
  },
  {
   "cell_type": "code",
   "execution_count": null,
   "id": "903705df",
   "metadata": {},
   "outputs": [],
   "source": [
    "apples = 2\n",
    "def guard2():\n",
    "    2nd_guard_take = apples/2\n",
    "    return guard_take"
   ]
  },
  {
   "cell_type": "code",
   "execution_count": null,
   "id": "d664974a",
   "metadata": {},
   "outputs": [],
   "source": [
    "guard2()"
   ]
  },
  {
   "cell_type": "markdown",
   "id": "ecd77f2e",
   "metadata": {},
   "source": [
    "# 2nd try:"
   ]
  },
  {
   "cell_type": "code",
   "execution_count": 6,
   "id": "a18dd5f9",
   "metadata": {},
   "outputs": [],
   "source": [
    "apples_have = 2"
   ]
  },
  {
   "cell_type": "code",
   "execution_count": 7,
   "id": "a42d6568",
   "metadata": {},
   "outputs": [
    {
     "name": "stdout",
     "output_type": "stream",
     "text": [
      "2\n"
     ]
    }
   ],
   "source": [
    "guard1_take_apples = apples_have -1\n",
    "remain_apples = guard1_take_apples+1\n",
    "    \n",
    "print(remain_apples)"
   ]
  },
  {
   "cell_type": "code",
   "execution_count": 8,
   "id": "a4560ae7",
   "metadata": {},
   "outputs": [
    {
     "name": "stdout",
     "output_type": "stream",
     "text": [
      "2\n"
     ]
    }
   ],
   "source": [
    "guard2_take_apples = remain_apples-1\n",
    "final_apples_remain = guard2_take_apples+1\n",
    "\n",
    "print(final_apples_remain)\n"
   ]
  },
  {
   "cell_type": "markdown",
   "id": "6924a2a3",
   "metadata": {},
   "source": [
    "# 3rd try:"
   ]
  },
  {
   "cell_type": "code",
   "execution_count": 9,
   "id": "00d3856f",
   "metadata": {},
   "outputs": [
    {
     "ename": "NameError",
     "evalue": "name 'guard1' is not defined",
     "output_type": "error",
     "traceback": [
      "\u001b[1;31m---------------------------------------------------------------------------\u001b[0m",
      "\u001b[1;31mNameError\u001b[0m                                 Traceback (most recent call last)",
      "Input \u001b[1;32mIn [9]\u001b[0m, in \u001b[0;36m<cell line: 3>\u001b[1;34m()\u001b[0m\n\u001b[0;32m      1\u001b[0m apples\u001b[38;5;241m=\u001b[39m\u001b[38;5;241m2\u001b[39m\n\u001b[0;32m      2\u001b[0m guard_1 \u001b[38;5;241m=\u001b[39m apples\u001b[38;5;241m-\u001b[39m\u001b[38;5;241m1\u001b[39m\n\u001b[1;32m----> 3\u001b[0m return_apple_by_guard1 \u001b[38;5;241m=\u001b[39m \u001b[43mguard1\u001b[49m\u001b[38;5;241m+\u001b[39m\u001b[38;5;241m1\u001b[39m\n\u001b[0;32m      5\u001b[0m guard_2 \u001b[38;5;241m=\u001b[39m return_apple_by_guard1\u001b[38;5;241m-\u001b[39m\u001b[38;5;241m1\u001b[39m\n\u001b[0;32m      6\u001b[0m return_apple_by_guard2 \u001b[38;5;241m=\u001b[39m guard_2\u001b[38;5;241m+\u001b[39m\u001b[38;5;241m1\u001b[39m\n",
      "\u001b[1;31mNameError\u001b[0m: name 'guard1' is not defined"
     ]
    }
   ],
   "source": [
    "apples=2\n",
    "guard_1 = apples-1\n",
    "return_apple_by_guard1 = guard1+1\n",
    "\n",
    "guard_2 = return_apple_by_guard1-1\n",
    "return_apple_by_guard2 = guard_2+1\n",
    "\n"
   ]
  },
  {
   "cell_type": "code",
   "execution_count": 10,
   "id": "015fe0b4",
   "metadata": {},
   "outputs": [
    {
     "ename": "NameError",
     "evalue": "name 'return_apple_by_guard2' is not defined",
     "output_type": "error",
     "traceback": [
      "\u001b[1;31m---------------------------------------------------------------------------\u001b[0m",
      "\u001b[1;31mNameError\u001b[0m                                 Traceback (most recent call last)",
      "Input \u001b[1;32mIn [10]\u001b[0m, in \u001b[0;36m<cell line: 1>\u001b[1;34m()\u001b[0m\n\u001b[1;32m----> 1\u001b[0m \u001b[38;5;28mprint\u001b[39m(\u001b[43mreturn_apple_by_guard2\u001b[49m)\n",
      "\u001b[1;31mNameError\u001b[0m: name 'return_apple_by_guard2' is not defined"
     ]
    }
   ],
   "source": [
    "print(return_apple_by_guard2)\n"
   ]
  },
  {
   "cell_type": "markdown",
   "id": "178b2b2a",
   "metadata": {},
   "source": [
    "# 4th try"
   ]
  },
  {
   "cell_type": "code",
   "execution_count": null,
   "id": "fe2ab092",
   "metadata": {},
   "outputs": [],
   "source": [
    "def guard1(apples):\n",
    "    if apples-1 and apples+1:\n",
    "        print(apples)\n",
    "    return apples\n"
   ]
  },
  {
   "cell_type": "code",
   "execution_count": null,
   "id": "c38b8dac",
   "metadata": {},
   "outputs": [],
   "source": [
    "guard1(apples)"
   ]
  },
  {
   "cell_type": "code",
   "execution_count": null,
   "id": "56121c9d",
   "metadata": {},
   "outputs": [],
   "source": [
    "guard1(apples) = remain_apples"
   ]
  },
  {
   "cell_type": "code",
   "execution_count": null,
   "id": "7b939c9a",
   "metadata": {},
   "outputs": [],
   "source": [
    "\n",
    "def guard2(remain_apples):\n",
    "    if remain_apples-1 and remain_apples+1:\n",
    "        print(remain_apples)\n",
    "    return remain_apples\n"
   ]
  },
  {
   "cell_type": "code",
   "execution_count": null,
   "id": "fee33f4a",
   "metadata": {},
   "outputs": [],
   "source": [
    "guard2(remain_apples)"
   ]
  },
  {
   "cell_type": "code",
   "execution_count": null,
   "id": "6feccb0d",
   "metadata": {},
   "outputs": [],
   "source": []
  }
 ],
 "metadata": {
  "kernelspec": {
   "display_name": "Python 3 (ipykernel)",
   "language": "python",
   "name": "python3"
  },
  "language_info": {
   "codemirror_mode": {
    "name": "ipython",
    "version": 3
   },
   "file_extension": ".py",
   "mimetype": "text/x-python",
   "name": "python",
   "nbconvert_exporter": "python",
   "pygments_lexer": "ipython3",
   "version": "3.9.12"
  }
 },
 "nbformat": 4,
 "nbformat_minor": 5
}
