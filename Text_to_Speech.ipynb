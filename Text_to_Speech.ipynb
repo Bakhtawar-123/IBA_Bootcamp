{
 "cells": [
  {
   "cell_type": "markdown",
   "id": "c1b2e3c8",
   "metadata": {},
   "source": [
    "# Convert Text to Speech in Python\n",
    "\n",
    "https://www.geeksforgeeks.org/convert-text-speech-python/"
   ]
  },
  {
   "cell_type": "code",
   "execution_count": 1,
   "id": "ad915a6a",
   "metadata": {},
   "outputs": [
    {
     "name": "stdout",
     "output_type": "stream",
     "text": [
      "Defaulting to user installation because normal site-packages is not writeable\n",
      "Requirement already satisfied: gTTS in c:\\users\\sobia\\appdata\\roaming\\python\\python39\\site-packages (2.3.2)\n",
      "Requirement already satisfied: click<8.2,>=7.1 in c:\\programdata\\anaconda3\\lib\\site-packages (from gTTS) (8.0.4)\n",
      "Requirement already satisfied: requests<3,>=2.27 in c:\\programdata\\anaconda3\\lib\\site-packages (from gTTS) (2.27.1)\n",
      "Requirement already satisfied: colorama in c:\\programdata\\anaconda3\\lib\\site-packages (from click<8.2,>=7.1->gTTS) (0.4.4)\n",
      "Requirement already satisfied: urllib3<1.27,>=1.21.1 in c:\\programdata\\anaconda3\\lib\\site-packages (from requests<3,>=2.27->gTTS) (1.26.9)\n",
      "Requirement already satisfied: idna<4,>=2.5 in c:\\programdata\\anaconda3\\lib\\site-packages (from requests<3,>=2.27->gTTS) (3.3)\n",
      "Requirement already satisfied: charset-normalizer~=2.0.0 in c:\\programdata\\anaconda3\\lib\\site-packages (from requests<3,>=2.27->gTTS) (2.0.4)\n",
      "Requirement already satisfied: certifi>=2017.4.17 in c:\\programdata\\anaconda3\\lib\\site-packages (from requests<3,>=2.27->gTTS) (2021.10.8)\n",
      "Note: you may need to restart the kernel to use updated packages.\n"
     ]
    }
   ],
   "source": [
    "pip install gTTS"
   ]
  },
  {
   "cell_type": "code",
   "execution_count": 2,
   "id": "628199b1",
   "metadata": {},
   "outputs": [
    {
     "data": {
      "text/plain": [
       "1"
      ]
     },
     "execution_count": 2,
     "metadata": {},
     "output_type": "execute_result"
    }
   ],
   "source": [
    "# Import the required module for text\n",
    "# to speech conversion\n",
    "from gtts import gTTS\n",
    "\n",
    "# This module is imported so that we can\n",
    "# play the converted audio\n",
    "import os\n",
    "\n",
    "# The text that you want to convert to audio\n",
    "mytext = 'Welcome to geeksforgeeks!'\n",
    "\n",
    "# Language in which you want to convert\n",
    "language = 'en'\n",
    "\n",
    "# Passing the text and language to the engine,\n",
    "# here we have marked slow=False. Which tells\n",
    "# the module that the converted audio should\n",
    "# have a high speed\n",
    "myobj = gTTS(text=mytext, lang=language, slow=False)\n",
    "\n",
    "# Saving the converted audio in a mp3 file named\n",
    "# welcome\n",
    "myobj.save(\"welcome.mp3\")\n",
    "\n",
    "# Playing the converted file\n",
    "os.system(\"mpg321 welcome.mp3\")\n"
   ]
  },
  {
   "cell_type": "code",
   "execution_count": 3,
   "id": "e01181cc",
   "metadata": {},
   "outputs": [],
   "source": [
    "# The text that you want to convert to audio\n",
    "shortstory = \"\"\"The Ramayana romanized) is a Sanskrit epic from ancient India, one of the two important epics of Hinduism, the other being the Mahābhārata.[4] Together, they form the core of Hindu mythology. The epic, traditionally ascribed to the Maharishi Valmiki, narrates the life of Rama, a prince of Ayodhya in the kingdom of Kosala. The epic follows his fourteen-year exile to the forest urged by his father King Dasharatha, on the request of Rama's stepmother Kaikeyi; his travels across forests in the Indian subcontinent with his wife Sita and brother Lakshmana; the kidnapping of Sita by Ravana, the king of Lanka, that resulted in war; and Rama's eventual return to Ayodhya along with Sita to be crowned king amidst jubilation and celebration.\n",
    "\n",
    "The scholars' estimates for the earliest stage of the text ranging from the 8th to 4th centuries BCE,[5][6] and later stages extending up to the 3rd century CE,[7] although original date of composition is unknown. It is one of the largest ancient epics in world literature and consists of nearly 24,000 verses (mostly set in the Shloka/Anuṣṭubh metre), divided into seven kāṇḍa (chapters) the first and the seventh being later additions.\"\"\"\n"
   ]
  },
  {
   "cell_type": "code",
   "execution_count": 4,
   "id": "22c3545c",
   "metadata": {},
   "outputs": [],
   "source": [
    "# Language in which you want to convert\n",
    "language = 'en'"
   ]
  },
  {
   "cell_type": "code",
   "execution_count": 5,
   "id": "5ddd0af5",
   "metadata": {},
   "outputs": [],
   "source": [
    "myobj = gTTS(text=shortstory, lang=language, slow=False)"
   ]
  },
  {
   "cell_type": "code",
   "execution_count": 6,
   "id": "659f0a35",
   "metadata": {},
   "outputs": [],
   "source": [
    "# Saving the converted audio in a mp3 file named\n",
    "# welcome\n",
    "myobj.save(\"shortstory.mp3\")"
   ]
  },
  {
   "cell_type": "code",
   "execution_count": 7,
   "id": "d7da3978",
   "metadata": {},
   "outputs": [
    {
     "data": {
      "text/plain": [
       "1"
      ]
     },
     "execution_count": 7,
     "metadata": {},
     "output_type": "execute_result"
    }
   ],
   "source": [
    "# Playing the converted file\n",
    "os.system(\"mpg321 shortstory.mp3\")\n"
   ]
  },
  {
   "cell_type": "code",
   "execution_count": 8,
   "id": "97663d9a",
   "metadata": {},
   "outputs": [],
   "source": [
    "# text = input(\"enter sentence\")\n",
    "# myobj = gTTS(text=text, lang=language, slow=False)\n",
    "# myobj.save(\"text.mp3\")\n",
    "# os.system(\"mpg321 text.mp3\")"
   ]
  },
  {
   "cell_type": "code",
   "execution_count": 14,
   "id": "38332796",
   "metadata": {},
   "outputs": [
    {
     "name": "stdout",
     "output_type": "stream",
     "text": [
      "enter sentencesHello, This is Data Scientist Hub\n"
     ]
    }
   ],
   "source": [
    "txt = input(\"enter sentences\")"
   ]
  },
  {
   "cell_type": "code",
   "execution_count": 15,
   "id": "e84cd07c",
   "metadata": {},
   "outputs": [],
   "source": [
    "myobj = gTTS(text=txt, lang=language, slow=False)"
   ]
  },
  {
   "cell_type": "code",
   "execution_count": 16,
   "id": "6d10b58c",
   "metadata": {},
   "outputs": [],
   "source": [
    "myobj.save(\"txt.mp3\")"
   ]
  },
  {
   "cell_type": "code",
   "execution_count": 18,
   "id": "6a1c4192",
   "metadata": {},
   "outputs": [
    {
     "data": {
      "text/plain": [
       "1"
      ]
     },
     "execution_count": 18,
     "metadata": {},
     "output_type": "execute_result"
    }
   ],
   "source": [
    "os.system(\"mpg321 txt.mp3\")"
   ]
  },
  {
   "cell_type": "markdown",
   "id": "6f128ccb",
   "metadata": {},
   "source": [
    "# Day 2\n",
    "\n",
    "https://thepythoncode.com/article/using-speech-recognition-to-convert-speech-to-text-python"
   ]
  },
  {
   "cell_type": "code",
   "execution_count": 1,
   "id": "3c25f6cc",
   "metadata": {},
   "outputs": [
    {
     "name": "stdout",
     "output_type": "stream",
     "text": [
      "Defaulting to user installation because normal site-packages is not writeable\n",
      "Requirement already satisfied: SpeechRecognition in c:\\users\\sobia\\appdata\\roaming\\python\\python39\\site-packages (3.10.0)\n",
      "Requirement already satisfied: pydub in c:\\users\\sobia\\appdata\\roaming\\python\\python39\\site-packages (0.25.1)\n",
      "Requirement already satisfied: requests>=2.26.0 in c:\\programdata\\anaconda3\\lib\\site-packages (from SpeechRecognition) (2.27.1)\n",
      "Requirement already satisfied: urllib3<1.27,>=1.21.1 in c:\\programdata\\anaconda3\\lib\\site-packages (from requests>=2.26.0->SpeechRecognition) (1.26.9)\n",
      "Requirement already satisfied: charset-normalizer~=2.0.0 in c:\\programdata\\anaconda3\\lib\\site-packages (from requests>=2.26.0->SpeechRecognition) (2.0.4)\n",
      "Requirement already satisfied: certifi>=2017.4.17 in c:\\programdata\\anaconda3\\lib\\site-packages (from requests>=2.26.0->SpeechRecognition) (2021.10.8)\n",
      "Requirement already satisfied: idna<4,>=2.5 in c:\\programdata\\anaconda3\\lib\\site-packages (from requests>=2.26.0->SpeechRecognition) (3.3)\n",
      "Note: you may need to restart the kernel to use updated packages.\n"
     ]
    }
   ],
   "source": [
    "pip install SpeechRecognition pydub"
   ]
  },
  {
   "cell_type": "code",
   "execution_count": 2,
   "id": "e2d26d46",
   "metadata": {},
   "outputs": [],
   "source": [
    "import speech_recognition as sr"
   ]
  },
  {
   "cell_type": "markdown",
   "id": "0c9e57af",
   "metadata": {},
   "source": [
    "https://www.freeconvert.com/mp3-to-wav/download"
   ]
  },
  {
   "cell_type": "code",
   "execution_count": 3,
   "id": "57383cb7",
   "metadata": {},
   "outputs": [],
   "source": [
    "myfile = r'C:\\Users\\sobia\\Downloads\\DATA SCIENCE WITH PYTHON\\welcome.wav'"
   ]
  },
  {
   "cell_type": "code",
   "execution_count": 4,
   "id": "1e7320ff",
   "metadata": {},
   "outputs": [],
   "source": [
    "# initialize the recognizer\n",
    "r = sr.Recognizer()"
   ]
  },
  {
   "cell_type": "code",
   "execution_count": 5,
   "id": "b44455c0",
   "metadata": {},
   "outputs": [
    {
     "name": "stdout",
     "output_type": "stream",
     "text": [
      "welcome to Geeks for Geeks\n"
     ]
    }
   ],
   "source": [
    "# open the file\n",
    "with sr.AudioFile(myfile) as source:\n",
    "    # listen for the data (load audio to memory)\n",
    "    audio_data = r.record(source)\n",
    "    # recognize (convert from speech to text)\n",
    "    text = r.recognize_google(audio_data)\n",
    "    print(text)"
   ]
  },
  {
   "cell_type": "markdown",
   "id": "fc713639",
   "metadata": {},
   "source": [
    "#### Transcribing Large Audio Files"
   ]
  },
  {
   "cell_type": "code",
   "execution_count": 6,
   "id": "f67eb1a7",
   "metadata": {},
   "outputs": [],
   "source": [
    "#import speech_recognition as sr\n",
    "#import os \n",
    "#from pydub import AudioSegment \n",
    "#from pydub.silence import split_on_silence "
   ]
  },
  {
   "cell_type": "code",
   "execution_count": 7,
   "id": "e9f45664",
   "metadata": {},
   "outputs": [
    {
     "name": "stderr",
     "output_type": "stream",
     "text": [
      "C:\\Users\\sobia\\AppData\\Roaming\\Python\\Python39\\site-packages\\pydub\\utils.py:170: RuntimeWarning: Couldn't find ffmpeg or avconv - defaulting to ffmpeg, but may not work\n",
      "  warn(\"Couldn't find ffmpeg or avconv - defaulting to ffmpeg, but may not work\", RuntimeWarning)\n"
     ]
    }
   ],
   "source": [
    "# importing libraries \n",
    "import speech_recognition as sr \n",
    "import os \n",
    "from pydub import AudioSegment\n",
    "from pydub.silence import split_on_silence\n",
    "\n",
    "# create a speech recognition object\n",
    "r = sr.Recognizer()\n",
    "\n",
    "# a function to recognize speech in the audio file\n",
    "# so that we don't repeat ourselves in in other functions\n",
    "def transcribe_audio(path):\n",
    "    # use the audio file as the audio source\n",
    "    with sr.AudioFile(path) as source:\n",
    "        audio_listened = r.record(source)\n",
    "        # try converting it to text\n",
    "        text = r.recognize_google(audio_listened)\n",
    "    return text\n",
    "\n",
    "# a function that splits the audio file into chunks on silence\n",
    "# and applies speech recognition\n",
    "def get_large_audio_transcription_on_silence(path):\n",
    "    \"\"\"Splitting the large audio file into chunks\n",
    "    and apply speech recognition on each of these chunks\"\"\"\n",
    "    # open the audio file using pydub\n",
    "    sound = AudioSegment.from_file(path)  \n",
    "    # split audio sound where silence is 500 miliseconds or more and get chunks\n",
    "    chunks = split_on_silence(sound,\n",
    "        # experiment with this value for your target audio file\n",
    "        min_silence_len = 500,\n",
    "        # adjust this per requirement\n",
    "        silence_thresh = sound.dBFS-14,\n",
    "        # keep the silence for 1 second, adjustable as well\n",
    "        keep_silence=500,\n",
    "    )\n",
    "    folder_name = \"audio-chunks\"\n",
    "    # create a directory to store the audio chunks\n",
    "    if not os.path.isdir(folder_name):\n",
    "        os.mkdir(folder_name)\n",
    "    whole_text = \"\"\n",
    "    # process each chunk \n",
    "    for i, audio_chunk in enumerate(chunks, start=1):\n",
    "        # export audio chunk and save it in\n",
    "        # the `folder_name` directory.\n",
    "        chunk_filename = os.path.join(folder_name, f\"chunk{i}.wav\")\n",
    "        audio_chunk.export(chunk_filename, format=\"wav\")\n",
    "        # recognize the chunk\n",
    "        try:\n",
    "            text = transcribe_audio(chunk_filename)\n",
    "        except sr.UnknownValueError as e:\n",
    "            print(\"Error:\", str(e))\n",
    "        else:\n",
    "            text = f\"{text.capitalize()}. \"\n",
    "            print(chunk_filename, \":\", text)\n",
    "            whole_text += text\n",
    "    # return the text for all chunks detected\n",
    "    return whole_text"
   ]
  },
  {
   "cell_type": "code",
   "execution_count": null,
   "id": "9623d3e5",
   "metadata": {},
   "outputs": [],
   "source": []
  }
 ],
 "metadata": {
  "kernelspec": {
   "display_name": "Python 3 (ipykernel)",
   "language": "python",
   "name": "python3"
  },
  "language_info": {
   "codemirror_mode": {
    "name": "ipython",
    "version": 3
   },
   "file_extension": ".py",
   "mimetype": "text/x-python",
   "name": "python",
   "nbconvert_exporter": "python",
   "pygments_lexer": "ipython3",
   "version": "3.9.12"
  }
 },
 "nbformat": 4,
 "nbformat_minor": 5
}
