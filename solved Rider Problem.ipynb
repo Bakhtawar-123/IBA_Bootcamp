{
 "cells": [
  {
   "cell_type": "code",
   "execution_count": 39,
   "id": "4fc899af",
   "metadata": {},
   "outputs": [],
   "source": [
    "apples=0\n",
    "\n",
    "for apples in range(1,10,2):\n",
    "    \n",
    "    def guard1(apples):\n",
    "        \n",
    "        take_apples_half = apples/2\n",
    "        return_one_apple = take_apples_half+1\n",
    "        #remain_apples_from_guard1\n",
    "        a == return_one_apple\n",
    "        \n",
    "        take_apples_half_by_guard2 = a/2\n",
    "        return_one_apple_by_guard2= take_apples_half_by_guard2+1\n",
    "        #remain_apples_from_guard2\n",
    "        b == return_one_apple_by_guard2 \n",
    "        \n",
    "        return b\n"
   ]
  },
  {
   "cell_type": "code",
   "execution_count": 40,
   "id": "be388bcd",
   "metadata": {},
   "outputs": [
    {
     "data": {
      "text/plain": [
       "0"
      ]
     },
     "execution_count": 40,
     "metadata": {},
     "output_type": "execute_result"
    }
   ],
   "source": [
    "guard1(apples)"
   ]
  },
  {
   "cell_type": "code",
   "execution_count": null,
   "id": "ddd602f3",
   "metadata": {},
   "outputs": [],
   "source": []
  }
 ],
 "metadata": {
  "kernelspec": {
   "display_name": "Python 3 (ipykernel)",
   "language": "python",
   "name": "python3"
  },
  "language_info": {
   "codemirror_mode": {
    "name": "ipython",
    "version": 3
   },
   "file_extension": ".py",
   "mimetype": "text/x-python",
   "name": "python",
   "nbconvert_exporter": "python",
   "pygments_lexer": "ipython3",
   "version": "3.9.12"
  }
 },
 "nbformat": 4,
 "nbformat_minor": 5
}
