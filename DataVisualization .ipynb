{
 "cells": [
  {
   "cell_type": "markdown",
   "id": "35df6c6a",
   "metadata": {},
   "source": [
    "# PivotTableJS\n",
    "\n",
    "### 𝐏𝐢𝐯𝐨𝐭𝐓𝐚𝐛𝐥𝐞𝐉𝐒 lets you interactively analyse your data in Jupyter Notebooks without any code 🔥\n",
    "\n",
    "Check this out 👇\n",
    "🔗 → https://lnkd.in/dapGg-AS\n"
   ]
  },
  {
   "cell_type": "code",
   "execution_count": 1,
   "id": "0a8af165",
   "metadata": {},
   "outputs": [
    {
     "name": "stdout",
     "output_type": "stream",
     "text": [
      "Defaulting to user installation because normal site-packages is not writeable\n",
      "Collecting pivottablejs\n",
      "  Downloading pivottablejs-0.9.0-py2.py3-none-any.whl (4.7 kB)\n",
      "Installing collected packages: pivottablejs\n",
      "Successfully installed pivottablejs-0.9.0\n"
     ]
    }
   ],
   "source": [
    "!pip install pivottablejs"
   ]
  },
  {
   "cell_type": "code",
   "execution_count": 2,
   "id": "76cadb43",
   "metadata": {},
   "outputs": [],
   "source": [
    "import pandas as pd\n"
   ]
  },
  {
   "cell_type": "code",
   "execution_count": 4,
   "id": "f66aab52",
   "metadata": {},
   "outputs": [],
   "source": [
    "df = pd.read_csv(r\"C:\\Users\\sobia\\Downloads\\DATA SCIENCE WITH PYTHON\\tested.csv\")"
   ]
  },
  {
   "cell_type": "code",
   "execution_count": 5,
   "id": "2390134a",
   "metadata": {},
   "outputs": [
    {
     "data": {
      "text/plain": [
       "Index(['PassengerId', 'Survived', 'Pclass', 'Name', 'Sex', 'Age', 'SibSp',\n",
       "       'Parch', 'Ticket', 'Fare', 'Cabin', 'Embarked'],\n",
       "      dtype='object')"
      ]
     },
     "execution_count": 5,
     "metadata": {},
     "output_type": "execute_result"
    }
   ],
   "source": [
    "df.columns"
   ]
  },
  {
   "cell_type": "code",
   "execution_count": 6,
   "id": "5b9ab47c",
   "metadata": {},
   "outputs": [
    {
     "data": {
      "text/plain": [
       "(418, 12)"
      ]
     },
     "execution_count": 6,
     "metadata": {},
     "output_type": "execute_result"
    }
   ],
   "source": [
    "df.shape"
   ]
  },
  {
   "cell_type": "code",
   "execution_count": 9,
   "id": "cba030f6",
   "metadata": {},
   "outputs": [
    {
     "data": {
      "text/html": [
       "\n",
       "        <iframe\n",
       "            width=\"100%\"\n",
       "            height=\"500\"\n",
       "            src=\"pivottablejs.html\"\n",
       "            frameborder=\"0\"\n",
       "            allowfullscreen\n",
       "            \n",
       "        ></iframe>\n",
       "        "
      ],
      "text/plain": [
       "<IPython.lib.display.IFrame at 0x1d7640f7fa0>"
      ]
     },
     "execution_count": 9,
     "metadata": {},
     "output_type": "execute_result"
    }
   ],
   "source": [
    "pivot_ui(df, rows=['1'], cols=['survived'])"
   ]
  },
  {
   "cell_type": "markdown",
   "id": "6c0fd230",
   "metadata": {},
   "source": [
    "# PyTube\n",
    "\n",
    "### Download Youtube videos in 5 lines of code!\n",
    "\n",
    "Check this out 👇\n",
    "🔗 → pytube.io/en/latest/\n",
    "\n"
   ]
  },
  {
   "cell_type": "markdown",
   "id": "69e52d8f",
   "metadata": {},
   "source": [
    "# Git-story\n",
    "\n",
    "###  Tell the story of your Git project by creating video animations.\n",
    "\n",
    "Check this out 👇\n",
    "🔗 → https://lnkd.in/dG3WDWM9\n",
    "\n"
   ]
  },
  {
   "cell_type": "markdown",
   "id": "dd76d72b",
   "metadata": {},
   "source": [
    "# Bashplotlib\n",
    "\n",
    "### Matplotlib for terminal! 🚀\n",
    "\n",
    "Check this out 👇\n",
    "🔗 → https://lnkd.in/dajFg_Kr\n"
   ]
  },
  {
   "cell_type": "markdown",
   "id": "5074be18",
   "metadata": {},
   "source": [
    "# MITO\n",
    "\n",
    "### Analyse your data in Jupyter by simply editing a spreadsheet\n",
    "Check this out👇\n",
    "🔗 → https://lnkd.in/dHuN6UCz\n"
   ]
  },
  {
   "cell_type": "markdown",
   "id": "d3833807",
   "metadata": {},
   "source": [
    "# black\n",
    "\n",
    "### The Uncompromising Code Formatter\n",
    "\n",
    "Arguably the best, I use it everyday!!\n",
    "\n",
    "Check this out 👇\n",
    "🔗 → pypi.org/project/black/\n"
   ]
  },
  {
   "cell_type": "markdown",
   "id": "596a27ec",
   "metadata": {},
   "source": [
    "# Manim\n",
    "\n",
    "###  Manim is an animation engine for explanatory math videos.\n",
    "\n",
    "You can programatically generate this & many more maths animations!!\n",
    "\n",
    "Check this out👇\n",
    "🔗 → pypi.org/project/manim/\n"
   ]
  },
  {
   "cell_type": "code",
   "execution_count": null,
   "id": "ca03e266",
   "metadata": {},
   "outputs": [],
   "source": []
  }
 ],
 "metadata": {
  "kernelspec": {
   "display_name": "Python 3 (ipykernel)",
   "language": "python",
   "name": "python3"
  },
  "language_info": {
   "codemirror_mode": {
    "name": "ipython",
    "version": 3
   },
   "file_extension": ".py",
   "mimetype": "text/x-python",
   "name": "python",
   "nbconvert_exporter": "python",
   "pygments_lexer": "ipython3",
   "version": "3.9.12"
  }
 },
 "nbformat": 4,
 "nbformat_minor": 5
}
