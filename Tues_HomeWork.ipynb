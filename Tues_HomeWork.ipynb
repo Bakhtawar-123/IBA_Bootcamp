{
 "cells": [
  {
   "cell_type": "markdown",
   "id": "0cb314cf",
   "metadata": {},
   "source": [
    "## session 1:\n",
    "\n",
    "Home work:\n",
    "\n",
    "use linear regression where input data enteries are 50"
   ]
  },
  {
   "cell_type": "code",
   "execution_count": 41,
   "id": "3d548a02",
   "metadata": {},
   "outputs": [
    {
     "name": "stdout",
     "output_type": "stream",
     "text": [
      "Predicted y values: [3.88763505 3.89339736 3.89915966]\n"
     ]
    }
   ],
   "source": [
    "import numpy as np\n",
    "\n",
    "from sklearn.model_selection import train_test_split\n",
    "\n",
    "from sklearn import linear_model \n",
    "\n",
    "\n",
    "x = np.array([1, 2, 3, 4, 5,6,7,8,9,10,11,12,13,14,15,16,17,18,19,20,21,22,23,24,25,26,27,28,29,30,31,32,33,34,35,36,37,38,39,40,41,42,43,44,45,46,47,48,49,50]).reshape(-1, 1)  # Reshape to create a 2D array (column vector)\n",
    "y = np.array([20, 41, 52, 43, 54,25, 46, 57, 48, 59,211, 412, 513, 414, 515,221, 416, 517, 418, 519,220, 421, 522, 423, 524,225, 426, 527, 428, 529,230, 431, 532, 433, 534,235, 436, 537, 438, 539,240, 441, 542, 443, 545,246, 447, 548, 449, 550])\n",
    "\n",
    "#split data into train and test\n",
    "\n",
    "x_train,x_test, y_train, y_test = train_test_split(x,y, test_size = 0.2, random_state=1)\n",
    "\n",
    "\n",
    "# Create a linear regression model and fit it to the data\n",
    "model = LinearRegression()\n",
    "model.fit(x, y)\n",
    "\n",
    "\n",
    "# Print the predicted values\n",
    "print(\"Predicted y values:\", predicted_y)\n"
   ]
  },
  {
   "cell_type": "code",
   "execution_count": 42,
   "id": "5fac2840",
   "metadata": {},
   "outputs": [
    {
     "name": "stdout",
     "output_type": "stream",
     "text": [
      "Coefficients:  [8.38847539]\n",
      "Variance score: 0.3675456754323403\n"
     ]
    }
   ],
   "source": [
    "# regression coefficients\n",
    "print('Coefficients: ', model.coef_)\n",
    " \n",
    "# variance score: 1 means perfect prediction\n",
    "print('Variance score: {}'.format(model.score(x_test, y_test)))"
   ]
  },
  {
   "cell_type": "markdown",
   "id": "69946399",
   "metadata": {},
   "source": [
    "## session 2:\n",
    "\n",
    "Home Work:\n",
    "\n",
    "defence and attack in data\n",
    "\n",
    "tell a pokemon where defence and attack should be maximum"
   ]
  },
  {
   "cell_type": "code",
   "execution_count": 11,
   "id": "6312f3d9",
   "metadata": {},
   "outputs": [],
   "source": [
    "import pandas as pd"
   ]
  },
  {
   "cell_type": "code",
   "execution_count": 12,
   "id": "796b4d6b",
   "metadata": {},
   "outputs": [],
   "source": [
    "df = pd.read_csv(r'C:\\Users\\sobia\\Downloads\\pokemon.csv')"
   ]
  },
  {
   "cell_type": "code",
   "execution_count": 13,
   "id": "d2dbab25",
   "metadata": {},
   "outputs": [
    {
     "data": {
      "text/plain": [
       "Index(['Unnamed: 0', 'image_url', 'Id', 'Names', 'Type1', 'Type2', 'Total',\n",
       "       'HP', 'Attack', 'Defense', 'Sp. Atk', 'Sp. Def', 'Speed'],\n",
       "      dtype='object')"
      ]
     },
     "execution_count": 13,
     "metadata": {},
     "output_type": "execute_result"
    }
   ],
   "source": [
    "df.columns"
   ]
  },
  {
   "cell_type": "code",
   "execution_count": 25,
   "id": "a6946696",
   "metadata": {},
   "outputs": [
    {
     "data": {
      "text/plain": [
       "Defense    250\n",
       "Attack     190\n",
       "dtype: int64"
      ]
     },
     "execution_count": 25,
     "metadata": {},
     "output_type": "execute_result"
    }
   ],
   "source": [
    "df[['Defense', 'Attack']].max()"
   ]
  },
  {
   "cell_type": "code",
   "execution_count": 31,
   "id": "f7c7d591",
   "metadata": {},
   "outputs": [
    {
     "data": {
      "text/plain": [
       "250"
      ]
     },
     "execution_count": 31,
     "metadata": {},
     "output_type": "execute_result"
    }
   ],
   "source": [
    "d_max=df['Defense'].max()\n",
    "\n",
    "d_max"
   ]
  },
  {
   "cell_type": "code",
   "execution_count": 33,
   "id": "32ebe20a",
   "metadata": {},
   "outputs": [
    {
     "data": {
      "text/plain": [
       "190"
      ]
     },
     "execution_count": 33,
     "metadata": {},
     "output_type": "execute_result"
    }
   ],
   "source": [
    "a_max = df['Attack'].max()\n",
    "\n",
    "a_max"
   ]
  },
  {
   "cell_type": "code",
   "execution_count": 35,
   "id": "c97d9905",
   "metadata": {},
   "outputs": [
    {
     "data": {
      "text/plain": [
       "250    Quagsire\n",
       "190     Snorlax\n",
       "Name: Names, dtype: object"
      ]
     },
     "execution_count": 35,
     "metadata": {},
     "output_type": "execute_result"
    }
   ],
   "source": [
    "df['Names'].loc[[d_max, a_max]]"
   ]
  },
  {
   "cell_type": "code",
   "execution_count": null,
   "id": "9e21fcba",
   "metadata": {},
   "outputs": [],
   "source": []
  }
 ],
 "metadata": {
  "kernelspec": {
   "display_name": "Python 3 (ipykernel)",
   "language": "python",
   "name": "python3"
  },
  "language_info": {
   "codemirror_mode": {
    "name": "ipython",
    "version": 3
   },
   "file_extension": ".py",
   "mimetype": "text/x-python",
   "name": "python",
   "nbconvert_exporter": "python",
   "pygments_lexer": "ipython3",
   "version": "3.9.12"
  }
 },
 "nbformat": 4,
 "nbformat_minor": 5
}
